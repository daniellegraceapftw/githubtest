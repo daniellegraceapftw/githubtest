{
  "cells": [
    {
      "cell_type": "markdown",
      "metadata": {
        "id": "view-in-github",
        "colab_type": "text"
      },
      "source": [
        "<a href=\"https://colab.research.google.com/github/daniellegraceapftw/githubtest/blob/main/Data_Preparation/Hotel_Booking_Data_Prep_with_Python.ipynb\" target=\"_parent\"><img src=\"https://colab.research.google.com/assets/colab-badge.svg\" alt=\"Open In Colab\"/></a>"
      ]
    },
    {
      "cell_type": "markdown",
      "metadata": {
        "id": "uyg1OsW8dlQ-"
      },
      "source": [
        "\n",
        "# Data Preparation with Python\n",
        "\n",
        "For this lecture we will be working with the [Titanic Data Set from Kaggle](https://www.kaggle.com/c/titanic). This is a very famous data set and very often is a student's first step in machine learning! \n",
        "\n",
        "We will work on cleansing and preparing our dataset for visualizations and modeling.\n",
        "\n",
        "\n",
        "## Import Libraries\n",
        "Let's import some libraries to get started!"
      ]
    },
    {
      "cell_type": "code",
      "execution_count": 1,
      "metadata": {
        "collapsed": true,
        "id": "JwsHgiP2dlRC"
      },
      "outputs": [],
      "source": [
        "import pandas as pd\n",
        "import numpy as np\n",
        "import matplotlib.pyplot as plt\n",
        "import seaborn as sns\n",
        "%matplotlib inline"
      ]
    },
    {
      "cell_type": "code",
      "source": [],
      "metadata": {
        "id": "70Kt8e_u6Mbb"
      },
      "execution_count": null,
      "outputs": []
    },
    {
      "cell_type": "markdown",
      "metadata": {
        "id": "HZI004ZMdlRD"
      },
      "source": [
        "## The Data\n",
        "\n",
        "Let's start by reading in the titanic_train.csv file into a pandas dataframe.\n",
        "\n",
        "**Data Preprocessing generally involves below steps:**\n",
        "- Getting the dataset\n",
        "- Importing libraries\n",
        "- Importing datasets\n",
        "- Finding Missing Data\n",
        "- Encoding Categorical Data"
      ]
    },
    {
      "cell_type": "markdown",
      "source": [
        "## Load the Dataset"
      ],
      "metadata": {
        "id": "0WLtjOy0YtUY"
      }
    },
    {
      "cell_type": "code",
      "execution_count": 3,
      "metadata": {
        "collapsed": true,
        "id": "wcbpk-xIdlRE"
      },
      "outputs": [],
      "source": [
        "train = pd.read_csv('https://raw.githubusercontent.com/angelaaaateng/ftw_python/main/data/titanic_train_demo.csv')\n",
        "\n",
        "# calling this train since the actual titanic dataset comes in a zip file of 3 files, train, test, and gender"
      ]
    },
    {
      "cell_type": "code",
      "execution_count": 4,
      "metadata": {
        "colab": {
          "base_uri": "https://localhost:8080/",
          "height": 206
        },
        "id": "gMyOz3z6dlRE",
        "outputId": "d2e68ba9-496a-402a-8e12-b3eccff41356"
      },
      "outputs": [
        {
          "output_type": "execute_result",
          "data": {
            "text/plain": [
              "   PassengerId  Survived  Pclass  \\\n",
              "0            1         0       3   \n",
              "1            2         1       1   \n",
              "2            3         1       3   \n",
              "3            4         1       1   \n",
              "4            5         0       3   \n",
              "\n",
              "                                                Name     Sex   Age  SibSp  \\\n",
              "0                            Braund, Mr. Owen Harris    male  22.0      1   \n",
              "1  Cumings, Mrs. John Bradley (Florence Briggs Th...  female  38.0      1   \n",
              "2                             Heikkinen, Miss. Laina  female  26.0      0   \n",
              "3       Futrelle, Mrs. Jacques Heath (Lily May Peel)  female  35.0      1   \n",
              "4                           Allen, Mr. William Henry    male  35.0      0   \n",
              "\n",
              "   Parch            Ticket     Fare Cabin Embarked  \n",
              "0      0         A/5 21171   7.2500   NaN        S  \n",
              "1      0          PC 17599  71.2833   C85        C  \n",
              "2      0  STON/O2. 3101282   7.9250   NaN        S  \n",
              "3      0            113803  53.1000  C123        S  \n",
              "4      0            373450   8.0500   NaN        S  "
            ],
            "text/html": [
              "\n",
              "  <div id=\"df-591627bf-a1a5-4c9a-a79e-c76a96675470\">\n",
              "    <div class=\"colab-df-container\">\n",
              "      <div>\n",
              "<style scoped>\n",
              "    .dataframe tbody tr th:only-of-type {\n",
              "        vertical-align: middle;\n",
              "    }\n",
              "\n",
              "    .dataframe tbody tr th {\n",
              "        vertical-align: top;\n",
              "    }\n",
              "\n",
              "    .dataframe thead th {\n",
              "        text-align: right;\n",
              "    }\n",
              "</style>\n",
              "<table border=\"1\" class=\"dataframe\">\n",
              "  <thead>\n",
              "    <tr style=\"text-align: right;\">\n",
              "      <th></th>\n",
              "      <th>PassengerId</th>\n",
              "      <th>Survived</th>\n",
              "      <th>Pclass</th>\n",
              "      <th>Name</th>\n",
              "      <th>Sex</th>\n",
              "      <th>Age</th>\n",
              "      <th>SibSp</th>\n",
              "      <th>Parch</th>\n",
              "      <th>Ticket</th>\n",
              "      <th>Fare</th>\n",
              "      <th>Cabin</th>\n",
              "      <th>Embarked</th>\n",
              "    </tr>\n",
              "  </thead>\n",
              "  <tbody>\n",
              "    <tr>\n",
              "      <th>0</th>\n",
              "      <td>1</td>\n",
              "      <td>0</td>\n",
              "      <td>3</td>\n",
              "      <td>Braund, Mr. Owen Harris</td>\n",
              "      <td>male</td>\n",
              "      <td>22.0</td>\n",
              "      <td>1</td>\n",
              "      <td>0</td>\n",
              "      <td>A/5 21171</td>\n",
              "      <td>7.2500</td>\n",
              "      <td>NaN</td>\n",
              "      <td>S</td>\n",
              "    </tr>\n",
              "    <tr>\n",
              "      <th>1</th>\n",
              "      <td>2</td>\n",
              "      <td>1</td>\n",
              "      <td>1</td>\n",
              "      <td>Cumings, Mrs. John Bradley (Florence Briggs Th...</td>\n",
              "      <td>female</td>\n",
              "      <td>38.0</td>\n",
              "      <td>1</td>\n",
              "      <td>0</td>\n",
              "      <td>PC 17599</td>\n",
              "      <td>71.2833</td>\n",
              "      <td>C85</td>\n",
              "      <td>C</td>\n",
              "    </tr>\n",
              "    <tr>\n",
              "      <th>2</th>\n",
              "      <td>3</td>\n",
              "      <td>1</td>\n",
              "      <td>3</td>\n",
              "      <td>Heikkinen, Miss. Laina</td>\n",
              "      <td>female</td>\n",
              "      <td>26.0</td>\n",
              "      <td>0</td>\n",
              "      <td>0</td>\n",
              "      <td>STON/O2. 3101282</td>\n",
              "      <td>7.9250</td>\n",
              "      <td>NaN</td>\n",
              "      <td>S</td>\n",
              "    </tr>\n",
              "    <tr>\n",
              "      <th>3</th>\n",
              "      <td>4</td>\n",
              "      <td>1</td>\n",
              "      <td>1</td>\n",
              "      <td>Futrelle, Mrs. Jacques Heath (Lily May Peel)</td>\n",
              "      <td>female</td>\n",
              "      <td>35.0</td>\n",
              "      <td>1</td>\n",
              "      <td>0</td>\n",
              "      <td>113803</td>\n",
              "      <td>53.1000</td>\n",
              "      <td>C123</td>\n",
              "      <td>S</td>\n",
              "    </tr>\n",
              "    <tr>\n",
              "      <th>4</th>\n",
              "      <td>5</td>\n",
              "      <td>0</td>\n",
              "      <td>3</td>\n",
              "      <td>Allen, Mr. William Henry</td>\n",
              "      <td>male</td>\n",
              "      <td>35.0</td>\n",
              "      <td>0</td>\n",
              "      <td>0</td>\n",
              "      <td>373450</td>\n",
              "      <td>8.0500</td>\n",
              "      <td>NaN</td>\n",
              "      <td>S</td>\n",
              "    </tr>\n",
              "  </tbody>\n",
              "</table>\n",
              "</div>\n",
              "      <button class=\"colab-df-convert\" onclick=\"convertToInteractive('df-591627bf-a1a5-4c9a-a79e-c76a96675470')\"\n",
              "              title=\"Convert this dataframe to an interactive table.\"\n",
              "              style=\"display:none;\">\n",
              "        \n",
              "  <svg xmlns=\"http://www.w3.org/2000/svg\" height=\"24px\"viewBox=\"0 0 24 24\"\n",
              "       width=\"24px\">\n",
              "    <path d=\"M0 0h24v24H0V0z\" fill=\"none\"/>\n",
              "    <path d=\"M18.56 5.44l.94 2.06.94-2.06 2.06-.94-2.06-.94-.94-2.06-.94 2.06-2.06.94zm-11 1L8.5 8.5l.94-2.06 2.06-.94-2.06-.94L8.5 2.5l-.94 2.06-2.06.94zm10 10l.94 2.06.94-2.06 2.06-.94-2.06-.94-.94-2.06-.94 2.06-2.06.94z\"/><path d=\"M17.41 7.96l-1.37-1.37c-.4-.4-.92-.59-1.43-.59-.52 0-1.04.2-1.43.59L10.3 9.45l-7.72 7.72c-.78.78-.78 2.05 0 2.83L4 21.41c.39.39.9.59 1.41.59.51 0 1.02-.2 1.41-.59l7.78-7.78 2.81-2.81c.8-.78.8-2.07 0-2.86zM5.41 20L4 18.59l7.72-7.72 1.47 1.35L5.41 20z\"/>\n",
              "  </svg>\n",
              "      </button>\n",
              "      \n",
              "  <style>\n",
              "    .colab-df-container {\n",
              "      display:flex;\n",
              "      flex-wrap:wrap;\n",
              "      gap: 12px;\n",
              "    }\n",
              "\n",
              "    .colab-df-convert {\n",
              "      background-color: #E8F0FE;\n",
              "      border: none;\n",
              "      border-radius: 50%;\n",
              "      cursor: pointer;\n",
              "      display: none;\n",
              "      fill: #1967D2;\n",
              "      height: 32px;\n",
              "      padding: 0 0 0 0;\n",
              "      width: 32px;\n",
              "    }\n",
              "\n",
              "    .colab-df-convert:hover {\n",
              "      background-color: #E2EBFA;\n",
              "      box-shadow: 0px 1px 2px rgba(60, 64, 67, 0.3), 0px 1px 3px 1px rgba(60, 64, 67, 0.15);\n",
              "      fill: #174EA6;\n",
              "    }\n",
              "\n",
              "    [theme=dark] .colab-df-convert {\n",
              "      background-color: #3B4455;\n",
              "      fill: #D2E3FC;\n",
              "    }\n",
              "\n",
              "    [theme=dark] .colab-df-convert:hover {\n",
              "      background-color: #434B5C;\n",
              "      box-shadow: 0px 1px 3px 1px rgba(0, 0, 0, 0.15);\n",
              "      filter: drop-shadow(0px 1px 2px rgba(0, 0, 0, 0.3));\n",
              "      fill: #FFFFFF;\n",
              "    }\n",
              "  </style>\n",
              "\n",
              "      <script>\n",
              "        const buttonEl =\n",
              "          document.querySelector('#df-591627bf-a1a5-4c9a-a79e-c76a96675470 button.colab-df-convert');\n",
              "        buttonEl.style.display =\n",
              "          google.colab.kernel.accessAllowed ? 'block' : 'none';\n",
              "\n",
              "        async function convertToInteractive(key) {\n",
              "          const element = document.querySelector('#df-591627bf-a1a5-4c9a-a79e-c76a96675470');\n",
              "          const dataTable =\n",
              "            await google.colab.kernel.invokeFunction('convertToInteractive',\n",
              "                                                     [key], {});\n",
              "          if (!dataTable) return;\n",
              "\n",
              "          const docLinkHtml = 'Like what you see? Visit the ' +\n",
              "            '<a target=\"_blank\" href=https://colab.research.google.com/notebooks/data_table.ipynb>data table notebook</a>'\n",
              "            + ' to learn more about interactive tables.';\n",
              "          element.innerHTML = '';\n",
              "          dataTable['output_type'] = 'display_data';\n",
              "          await google.colab.output.renderOutput(dataTable, element);\n",
              "          const docLink = document.createElement('div');\n",
              "          docLink.innerHTML = docLinkHtml;\n",
              "          element.appendChild(docLink);\n",
              "        }\n",
              "      </script>\n",
              "    </div>\n",
              "  </div>\n",
              "  "
            ]
          },
          "metadata": {},
          "execution_count": 4
        }
      ],
      "source": [
        "# display the dataframe \n",
        "train.head()"
      ]
    },
    {
      "cell_type": "code",
      "source": [
        "# print columns \n",
        "train.columns"
      ],
      "metadata": {
        "colab": {
          "base_uri": "https://localhost:8080/"
        },
        "id": "QkPpXSw4Yyml",
        "outputId": "427d7fb5-49cb-4b35-e422-ab3925f92aef"
      },
      "execution_count": 5,
      "outputs": [
        {
          "output_type": "execute_result",
          "data": {
            "text/plain": [
              "Index(['PassengerId', 'Survived', 'Pclass', 'Name', 'Sex', 'Age', 'SibSp',\n",
              "       'Parch', 'Ticket', 'Fare', 'Cabin', 'Embarked'],\n",
              "      dtype='object')"
            ]
          },
          "metadata": {},
          "execution_count": 5
        }
      ]
    },
    {
      "cell_type": "markdown",
      "source": [
        "Let's understand the nature of the data. We can use the following Python functions to further explore our data. "
      ],
      "metadata": {
        "id": "mUPHXJ58ZCYq"
      }
    },
    {
      "cell_type": "code",
      "source": [
        "train.info()\n",
        "\n",
        "# quick look at our dataset, data types, and number of nulls"
      ],
      "metadata": {
        "colab": {
          "base_uri": "https://localhost:8080/"
        },
        "id": "WuSrMRiqY1e-",
        "outputId": "e3988a47-59e7-4672-8bb5-ef9b8fc88d48"
      },
      "execution_count": 6,
      "outputs": [
        {
          "output_type": "stream",
          "name": "stdout",
          "text": [
            "<class 'pandas.core.frame.DataFrame'>\n",
            "RangeIndex: 891 entries, 0 to 890\n",
            "Data columns (total 12 columns):\n",
            " #   Column       Non-Null Count  Dtype  \n",
            "---  ------       --------------  -----  \n",
            " 0   PassengerId  891 non-null    int64  \n",
            " 1   Survived     891 non-null    int64  \n",
            " 2   Pclass       891 non-null    int64  \n",
            " 3   Name         891 non-null    object \n",
            " 4   Sex          891 non-null    object \n",
            " 5   Age          714 non-null    float64\n",
            " 6   SibSp        891 non-null    int64  \n",
            " 7   Parch        891 non-null    int64  \n",
            " 8   Ticket       891 non-null    object \n",
            " 9   Fare         891 non-null    float64\n",
            " 10  Cabin        204 non-null    object \n",
            " 11  Embarked     889 non-null    object \n",
            "dtypes: float64(2), int64(5), object(5)\n",
            "memory usage: 83.7+ KB\n"
          ]
        }
      ]
    },
    {
      "cell_type": "markdown",
      "source": [
        "Check out the documentation [here](https://pandas.pydata.org/pandas-docs/stable/reference/api/pandas.DataFrame.info.html)"
      ],
      "metadata": {
        "id": "Esc5YNDlZVw3"
      }
    },
    {
      "cell_type": "markdown",
      "source": [
        "![image.png](data:image/png;base64,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)"
      ],
      "metadata": {
        "id": "mpFkiBu7ZMvc"
      }
    },
    {
      "cell_type": "code",
      "source": [
        "train.shape\n",
        "# rows , colunms --> get the size of the dataframe "
      ],
      "metadata": {
        "colab": {
          "base_uri": "https://localhost:8080/"
        },
        "id": "zIr6zFZHY30X",
        "outputId": "34b7d10d-694a-4df8-e53f-6e89dc925d69"
      },
      "execution_count": 7,
      "outputs": [
        {
          "output_type": "execute_result",
          "data": {
            "text/plain": [
              "(891, 12)"
            ]
          },
          "metadata": {},
          "execution_count": 7
        }
      ]
    },
    {
      "cell_type": "code",
      "source": [
        "train.describe()\n",
        "\n",
        "# to better understand the numeric data, we want to use the .describe() method\n",
        "# This gives us an understanding of the central tendencies of the data "
      ],
      "metadata": {
        "colab": {
          "base_uri": "https://localhost:8080/",
          "height": 300
        },
        "id": "ZsolOR8AZfsz",
        "outputId": "8b61d326-2044-478e-d1ab-0bee22499975"
      },
      "execution_count": 8,
      "outputs": [
        {
          "output_type": "execute_result",
          "data": {
            "text/plain": [
              "       PassengerId    Survived      Pclass         Age       SibSp  \\\n",
              "count   891.000000  891.000000  891.000000  714.000000  891.000000   \n",
              "mean    446.000000    0.383838    2.308642   29.699118    0.523008   \n",
              "std     257.353842    0.486592    0.836071   14.526497    1.102743   \n",
              "min       1.000000    0.000000    1.000000    0.420000    0.000000   \n",
              "25%     223.500000    0.000000    2.000000   20.125000    0.000000   \n",
              "50%     446.000000    0.000000    3.000000   28.000000    0.000000   \n",
              "75%     668.500000    1.000000    3.000000   38.000000    1.000000   \n",
              "max     891.000000    1.000000    3.000000   80.000000    8.000000   \n",
              "\n",
              "            Parch        Fare  \n",
              "count  891.000000  891.000000  \n",
              "mean     0.381594   32.204208  \n",
              "std      0.806057   49.693429  \n",
              "min      0.000000    0.000000  \n",
              "25%      0.000000    7.910400  \n",
              "50%      0.000000   14.454200  \n",
              "75%      0.000000   31.000000  \n",
              "max      6.000000  512.329200  "
            ],
            "text/html": [
              "\n",
              "  <div id=\"df-2169e16d-d3e6-4fe4-9ab0-42578f8cb392\">\n",
              "    <div class=\"colab-df-container\">\n",
              "      <div>\n",
              "<style scoped>\n",
              "    .dataframe tbody tr th:only-of-type {\n",
              "        vertical-align: middle;\n",
              "    }\n",
              "\n",
              "    .dataframe tbody tr th {\n",
              "        vertical-align: top;\n",
              "    }\n",
              "\n",
              "    .dataframe thead th {\n",
              "        text-align: right;\n",
              "    }\n",
              "</style>\n",
              "<table border=\"1\" class=\"dataframe\">\n",
              "  <thead>\n",
              "    <tr style=\"text-align: right;\">\n",
              "      <th></th>\n",
              "      <th>PassengerId</th>\n",
              "      <th>Survived</th>\n",
              "      <th>Pclass</th>\n",
              "      <th>Age</th>\n",
              "      <th>SibSp</th>\n",
              "      <th>Parch</th>\n",
              "      <th>Fare</th>\n",
              "    </tr>\n",
              "  </thead>\n",
              "  <tbody>\n",
              "    <tr>\n",
              "      <th>count</th>\n",
              "      <td>891.000000</td>\n",
              "      <td>891.000000</td>\n",
              "      <td>891.000000</td>\n",
              "      <td>714.000000</td>\n",
              "      <td>891.000000</td>\n",
              "      <td>891.000000</td>\n",
              "      <td>891.000000</td>\n",
              "    </tr>\n",
              "    <tr>\n",
              "      <th>mean</th>\n",
              "      <td>446.000000</td>\n",
              "      <td>0.383838</td>\n",
              "      <td>2.308642</td>\n",
              "      <td>29.699118</td>\n",
              "      <td>0.523008</td>\n",
              "      <td>0.381594</td>\n",
              "      <td>32.204208</td>\n",
              "    </tr>\n",
              "    <tr>\n",
              "      <th>std</th>\n",
              "      <td>257.353842</td>\n",
              "      <td>0.486592</td>\n",
              "      <td>0.836071</td>\n",
              "      <td>14.526497</td>\n",
              "      <td>1.102743</td>\n",
              "      <td>0.806057</td>\n",
              "      <td>49.693429</td>\n",
              "    </tr>\n",
              "    <tr>\n",
              "      <th>min</th>\n",
              "      <td>1.000000</td>\n",
              "      <td>0.000000</td>\n",
              "      <td>1.000000</td>\n",
              "      <td>0.420000</td>\n",
              "      <td>0.000000</td>\n",
              "      <td>0.000000</td>\n",
              "      <td>0.000000</td>\n",
              "    </tr>\n",
              "    <tr>\n",
              "      <th>25%</th>\n",
              "      <td>223.500000</td>\n",
              "      <td>0.000000</td>\n",
              "      <td>2.000000</td>\n",
              "      <td>20.125000</td>\n",
              "      <td>0.000000</td>\n",
              "      <td>0.000000</td>\n",
              "      <td>7.910400</td>\n",
              "    </tr>\n",
              "    <tr>\n",
              "      <th>50%</th>\n",
              "      <td>446.000000</td>\n",
              "      <td>0.000000</td>\n",
              "      <td>3.000000</td>\n",
              "      <td>28.000000</td>\n",
              "      <td>0.000000</td>\n",
              "      <td>0.000000</td>\n",
              "      <td>14.454200</td>\n",
              "    </tr>\n",
              "    <tr>\n",
              "      <th>75%</th>\n",
              "      <td>668.500000</td>\n",
              "      <td>1.000000</td>\n",
              "      <td>3.000000</td>\n",
              "      <td>38.000000</td>\n",
              "      <td>1.000000</td>\n",
              "      <td>0.000000</td>\n",
              "      <td>31.000000</td>\n",
              "    </tr>\n",
              "    <tr>\n",
              "      <th>max</th>\n",
              "      <td>891.000000</td>\n",
              "      <td>1.000000</td>\n",
              "      <td>3.000000</td>\n",
              "      <td>80.000000</td>\n",
              "      <td>8.000000</td>\n",
              "      <td>6.000000</td>\n",
              "      <td>512.329200</td>\n",
              "    </tr>\n",
              "  </tbody>\n",
              "</table>\n",
              "</div>\n",
              "      <button class=\"colab-df-convert\" onclick=\"convertToInteractive('df-2169e16d-d3e6-4fe4-9ab0-42578f8cb392')\"\n",
              "              title=\"Convert this dataframe to an interactive table.\"\n",
              "              style=\"display:none;\">\n",
              "        \n",
              "  <svg xmlns=\"http://www.w3.org/2000/svg\" height=\"24px\"viewBox=\"0 0 24 24\"\n",
              "       width=\"24px\">\n",
              "    <path d=\"M0 0h24v24H0V0z\" fill=\"none\"/>\n",
              "    <path d=\"M18.56 5.44l.94 2.06.94-2.06 2.06-.94-2.06-.94-.94-2.06-.94 2.06-2.06.94zm-11 1L8.5 8.5l.94-2.06 2.06-.94-2.06-.94L8.5 2.5l-.94 2.06-2.06.94zm10 10l.94 2.06.94-2.06 2.06-.94-2.06-.94-.94-2.06-.94 2.06-2.06.94z\"/><path d=\"M17.41 7.96l-1.37-1.37c-.4-.4-.92-.59-1.43-.59-.52 0-1.04.2-1.43.59L10.3 9.45l-7.72 7.72c-.78.78-.78 2.05 0 2.83L4 21.41c.39.39.9.59 1.41.59.51 0 1.02-.2 1.41-.59l7.78-7.78 2.81-2.81c.8-.78.8-2.07 0-2.86zM5.41 20L4 18.59l7.72-7.72 1.47 1.35L5.41 20z\"/>\n",
              "  </svg>\n",
              "      </button>\n",
              "      \n",
              "  <style>\n",
              "    .colab-df-container {\n",
              "      display:flex;\n",
              "      flex-wrap:wrap;\n",
              "      gap: 12px;\n",
              "    }\n",
              "\n",
              "    .colab-df-convert {\n",
              "      background-color: #E8F0FE;\n",
              "      border: none;\n",
              "      border-radius: 50%;\n",
              "      cursor: pointer;\n",
              "      display: none;\n",
              "      fill: #1967D2;\n",
              "      height: 32px;\n",
              "      padding: 0 0 0 0;\n",
              "      width: 32px;\n",
              "    }\n",
              "\n",
              "    .colab-df-convert:hover {\n",
              "      background-color: #E2EBFA;\n",
              "      box-shadow: 0px 1px 2px rgba(60, 64, 67, 0.3), 0px 1px 3px 1px rgba(60, 64, 67, 0.15);\n",
              "      fill: #174EA6;\n",
              "    }\n",
              "\n",
              "    [theme=dark] .colab-df-convert {\n",
              "      background-color: #3B4455;\n",
              "      fill: #D2E3FC;\n",
              "    }\n",
              "\n",
              "    [theme=dark] .colab-df-convert:hover {\n",
              "      background-color: #434B5C;\n",
              "      box-shadow: 0px 1px 3px 1px rgba(0, 0, 0, 0.15);\n",
              "      filter: drop-shadow(0px 1px 2px rgba(0, 0, 0, 0.3));\n",
              "      fill: #FFFFFF;\n",
              "    }\n",
              "  </style>\n",
              "\n",
              "      <script>\n",
              "        const buttonEl =\n",
              "          document.querySelector('#df-2169e16d-d3e6-4fe4-9ab0-42578f8cb392 button.colab-df-convert');\n",
              "        buttonEl.style.display =\n",
              "          google.colab.kernel.accessAllowed ? 'block' : 'none';\n",
              "\n",
              "        async function convertToInteractive(key) {\n",
              "          const element = document.querySelector('#df-2169e16d-d3e6-4fe4-9ab0-42578f8cb392');\n",
              "          const dataTable =\n",
              "            await google.colab.kernel.invokeFunction('convertToInteractive',\n",
              "                                                     [key], {});\n",
              "          if (!dataTable) return;\n",
              "\n",
              "          const docLinkHtml = 'Like what you see? Visit the ' +\n",
              "            '<a target=\"_blank\" href=https://colab.research.google.com/notebooks/data_table.ipynb>data table notebook</a>'\n",
              "            + ' to learn more about interactive tables.';\n",
              "          element.innerHTML = '';\n",
              "          dataTable['output_type'] = 'display_data';\n",
              "          await google.colab.output.renderOutput(dataTable, element);\n",
              "          const docLink = document.createElement('div');\n",
              "          docLink.innerHTML = docLinkHtml;\n",
              "          element.appendChild(docLink);\n",
              "        }\n",
              "      </script>\n",
              "    </div>\n",
              "  </div>\n",
              "  "
            ]
          },
          "metadata": {},
          "execution_count": 8
        }
      ]
    },
    {
      "cell_type": "markdown",
      "source": [
        "`DataFrame.describe(percentiles=None, include=None, exclude=None, datetime_is_numeric=False)`\n",
        "\n",
        "Generate descriptive statistics.\n",
        "\n",
        "Descriptive statistics include those that summarize the central tendency, dispersion and shape of a dataset’s distribution, excluding NaN values.\n",
        "\n",
        "Analyzes both numeric and object series, as well as DataFrame column sets of mixed data types. The output will vary depending on what is provided. Refer to the notes below for more detail.\n",
        "\n",
        "More details [here](https://pandas.pydata.org/docs/reference/api/pandas.DataFrame.describe.html)"
      ],
      "metadata": {
        "id": "LvEDVLDMagbT"
      }
    },
    {
      "cell_type": "code",
      "source": [
        "# quick way to separate numeric columns\n",
        "train.describe().columns"
      ],
      "metadata": {
        "colab": {
          "base_uri": "https://localhost:8080/"
        },
        "id": "TaFfSjuhbKf-",
        "outputId": "96f5cdc5-b9cd-492b-cba1-67fef692b4aa"
      },
      "execution_count": 9,
      "outputs": [
        {
          "output_type": "execute_result",
          "data": {
            "text/plain": [
              "Index(['PassengerId', 'Survived', 'Pclass', 'Age', 'SibSp', 'Parch', 'Fare'], dtype='object')"
            ]
          },
          "metadata": {},
          "execution_count": 9
        }
      ]
    },
    {
      "cell_type": "code",
      "source": [
        "# look at numeric and categorical values separately \n",
        "df_num = train[['Age','SibSp','Parch','Fare']]\n",
        "df_cat = train[['Survived','Pclass','Sex','Ticket','Cabin','Embarked']]"
      ],
      "metadata": {
        "id": "jXv-h2p-bR0o"
      },
      "execution_count": null,
      "outputs": []
    },
    {
      "cell_type": "code",
      "source": [
        "df_num"
      ],
      "metadata": {
        "colab": {
          "base_uri": "https://localhost:8080/",
          "height": 424
        },
        "id": "C-YdU9lvbXjZ",
        "outputId": "b3cd3180-bc2e-4331-f658-616595d457c8"
      },
      "execution_count": null,
      "outputs": [
        {
          "output_type": "execute_result",
          "data": {
            "text/plain": [
              "      Age  SibSp  Parch     Fare\n",
              "0    22.0      1      0   7.2500\n",
              "1    38.0      1      0  71.2833\n",
              "2    26.0      0      0   7.9250\n",
              "3    35.0      1      0  53.1000\n",
              "4    35.0      0      0   8.0500\n",
              "..    ...    ...    ...      ...\n",
              "886  27.0      0      0  13.0000\n",
              "887  19.0      0      0  30.0000\n",
              "888   NaN      1      2  23.4500\n",
              "889  26.0      0      0  30.0000\n",
              "890  32.0      0      0   7.7500\n",
              "\n",
              "[891 rows x 4 columns]"
            ],
            "text/html": [
              "\n",
              "  <div id=\"df-27c99823-682a-40a4-88ae-1916b9f33a1f\">\n",
              "    <div class=\"colab-df-container\">\n",
              "      <div>\n",
              "<style scoped>\n",
              "    .dataframe tbody tr th:only-of-type {\n",
              "        vertical-align: middle;\n",
              "    }\n",
              "\n",
              "    .dataframe tbody tr th {\n",
              "        vertical-align: top;\n",
              "    }\n",
              "\n",
              "    .dataframe thead th {\n",
              "        text-align: right;\n",
              "    }\n",
              "</style>\n",
              "<table border=\"1\" class=\"dataframe\">\n",
              "  <thead>\n",
              "    <tr style=\"text-align: right;\">\n",
              "      <th></th>\n",
              "      <th>Age</th>\n",
              "      <th>SibSp</th>\n",
              "      <th>Parch</th>\n",
              "      <th>Fare</th>\n",
              "    </tr>\n",
              "  </thead>\n",
              "  <tbody>\n",
              "    <tr>\n",
              "      <th>0</th>\n",
              "      <td>22.0</td>\n",
              "      <td>1</td>\n",
              "      <td>0</td>\n",
              "      <td>7.2500</td>\n",
              "    </tr>\n",
              "    <tr>\n",
              "      <th>1</th>\n",
              "      <td>38.0</td>\n",
              "      <td>1</td>\n",
              "      <td>0</td>\n",
              "      <td>71.2833</td>\n",
              "    </tr>\n",
              "    <tr>\n",
              "      <th>2</th>\n",
              "      <td>26.0</td>\n",
              "      <td>0</td>\n",
              "      <td>0</td>\n",
              "      <td>7.9250</td>\n",
              "    </tr>\n",
              "    <tr>\n",
              "      <th>3</th>\n",
              "      <td>35.0</td>\n",
              "      <td>1</td>\n",
              "      <td>0</td>\n",
              "      <td>53.1000</td>\n",
              "    </tr>\n",
              "    <tr>\n",
              "      <th>4</th>\n",
              "      <td>35.0</td>\n",
              "      <td>0</td>\n",
              "      <td>0</td>\n",
              "      <td>8.0500</td>\n",
              "    </tr>\n",
              "    <tr>\n",
              "      <th>...</th>\n",
              "      <td>...</td>\n",
              "      <td>...</td>\n",
              "      <td>...</td>\n",
              "      <td>...</td>\n",
              "    </tr>\n",
              "    <tr>\n",
              "      <th>886</th>\n",
              "      <td>27.0</td>\n",
              "      <td>0</td>\n",
              "      <td>0</td>\n",
              "      <td>13.0000</td>\n",
              "    </tr>\n",
              "    <tr>\n",
              "      <th>887</th>\n",
              "      <td>19.0</td>\n",
              "      <td>0</td>\n",
              "      <td>0</td>\n",
              "      <td>30.0000</td>\n",
              "    </tr>\n",
              "    <tr>\n",
              "      <th>888</th>\n",
              "      <td>NaN</td>\n",
              "      <td>1</td>\n",
              "      <td>2</td>\n",
              "      <td>23.4500</td>\n",
              "    </tr>\n",
              "    <tr>\n",
              "      <th>889</th>\n",
              "      <td>26.0</td>\n",
              "      <td>0</td>\n",
              "      <td>0</td>\n",
              "      <td>30.0000</td>\n",
              "    </tr>\n",
              "    <tr>\n",
              "      <th>890</th>\n",
              "      <td>32.0</td>\n",
              "      <td>0</td>\n",
              "      <td>0</td>\n",
              "      <td>7.7500</td>\n",
              "    </tr>\n",
              "  </tbody>\n",
              "</table>\n",
              "<p>891 rows × 4 columns</p>\n",
              "</div>\n",
              "      <button class=\"colab-df-convert\" onclick=\"convertToInteractive('df-27c99823-682a-40a4-88ae-1916b9f33a1f')\"\n",
              "              title=\"Convert this dataframe to an interactive table.\"\n",
              "              style=\"display:none;\">\n",
              "        \n",
              "  <svg xmlns=\"http://www.w3.org/2000/svg\" height=\"24px\"viewBox=\"0 0 24 24\"\n",
              "       width=\"24px\">\n",
              "    <path d=\"M0 0h24v24H0V0z\" fill=\"none\"/>\n",
              "    <path d=\"M18.56 5.44l.94 2.06.94-2.06 2.06-.94-2.06-.94-.94-2.06-.94 2.06-2.06.94zm-11 1L8.5 8.5l.94-2.06 2.06-.94-2.06-.94L8.5 2.5l-.94 2.06-2.06.94zm10 10l.94 2.06.94-2.06 2.06-.94-2.06-.94-.94-2.06-.94 2.06-2.06.94z\"/><path d=\"M17.41 7.96l-1.37-1.37c-.4-.4-.92-.59-1.43-.59-.52 0-1.04.2-1.43.59L10.3 9.45l-7.72 7.72c-.78.78-.78 2.05 0 2.83L4 21.41c.39.39.9.59 1.41.59.51 0 1.02-.2 1.41-.59l7.78-7.78 2.81-2.81c.8-.78.8-2.07 0-2.86zM5.41 20L4 18.59l7.72-7.72 1.47 1.35L5.41 20z\"/>\n",
              "  </svg>\n",
              "      </button>\n",
              "      \n",
              "  <style>\n",
              "    .colab-df-container {\n",
              "      display:flex;\n",
              "      flex-wrap:wrap;\n",
              "      gap: 12px;\n",
              "    }\n",
              "\n",
              "    .colab-df-convert {\n",
              "      background-color: #E8F0FE;\n",
              "      border: none;\n",
              "      border-radius: 50%;\n",
              "      cursor: pointer;\n",
              "      display: none;\n",
              "      fill: #1967D2;\n",
              "      height: 32px;\n",
              "      padding: 0 0 0 0;\n",
              "      width: 32px;\n",
              "    }\n",
              "\n",
              "    .colab-df-convert:hover {\n",
              "      background-color: #E2EBFA;\n",
              "      box-shadow: 0px 1px 2px rgba(60, 64, 67, 0.3), 0px 1px 3px 1px rgba(60, 64, 67, 0.15);\n",
              "      fill: #174EA6;\n",
              "    }\n",
              "\n",
              "    [theme=dark] .colab-df-convert {\n",
              "      background-color: #3B4455;\n",
              "      fill: #D2E3FC;\n",
              "    }\n",
              "\n",
              "    [theme=dark] .colab-df-convert:hover {\n",
              "      background-color: #434B5C;\n",
              "      box-shadow: 0px 1px 3px 1px rgba(0, 0, 0, 0.15);\n",
              "      filter: drop-shadow(0px 1px 2px rgba(0, 0, 0, 0.3));\n",
              "      fill: #FFFFFF;\n",
              "    }\n",
              "  </style>\n",
              "\n",
              "      <script>\n",
              "        const buttonEl =\n",
              "          document.querySelector('#df-27c99823-682a-40a4-88ae-1916b9f33a1f button.colab-df-convert');\n",
              "        buttonEl.style.display =\n",
              "          google.colab.kernel.accessAllowed ? 'block' : 'none';\n",
              "\n",
              "        async function convertToInteractive(key) {\n",
              "          const element = document.querySelector('#df-27c99823-682a-40a4-88ae-1916b9f33a1f');\n",
              "          const dataTable =\n",
              "            await google.colab.kernel.invokeFunction('convertToInteractive',\n",
              "                                                     [key], {});\n",
              "          if (!dataTable) return;\n",
              "\n",
              "          const docLinkHtml = 'Like what you see? Visit the ' +\n",
              "            '<a target=\"_blank\" href=https://colab.research.google.com/notebooks/data_table.ipynb>data table notebook</a>'\n",
              "            + ' to learn more about interactive tables.';\n",
              "          element.innerHTML = '';\n",
              "          dataTable['output_type'] = 'display_data';\n",
              "          await google.colab.output.renderOutput(dataTable, element);\n",
              "          const docLink = document.createElement('div');\n",
              "          docLink.innerHTML = docLinkHtml;\n",
              "          element.appendChild(docLink);\n",
              "        }\n",
              "      </script>\n",
              "    </div>\n",
              "  </div>\n",
              "  "
            ]
          },
          "metadata": {},
          "execution_count": 117
        }
      ]
    },
    {
      "cell_type": "code",
      "source": [
        "df_cat\n",
        "\n",
        "# Question: Why do we have numbers in our categorical dataframe? "
      ],
      "metadata": {
        "colab": {
          "base_uri": "https://localhost:8080/",
          "height": 424
        },
        "id": "-WCpfWXvbZ5K",
        "outputId": "b02b2532-62d1-447b-d295-aec4283cfbf2"
      },
      "execution_count": null,
      "outputs": [
        {
          "output_type": "execute_result",
          "data": {
            "text/plain": [
              "     Survived  Pclass     Sex            Ticket Cabin Embarked\n",
              "0           0       3    male         A/5 21171   NaN        S\n",
              "1           1       1  female          PC 17599   C85        C\n",
              "2           1       3  female  STON/O2. 3101282   NaN        S\n",
              "3           1       1  female            113803  C123        S\n",
              "4           0       3    male            373450   NaN        S\n",
              "..        ...     ...     ...               ...   ...      ...\n",
              "886         0       2    male            211536   NaN        S\n",
              "887         1       1  female            112053   B42        S\n",
              "888         0       3  female        W./C. 6607   NaN        S\n",
              "889         1       1    male            111369  C148        C\n",
              "890         0       3    male            370376   NaN        Q\n",
              "\n",
              "[891 rows x 6 columns]"
            ],
            "text/html": [
              "\n",
              "  <div id=\"df-4c247207-4bf7-4bb6-9364-0006da3b3051\">\n",
              "    <div class=\"colab-df-container\">\n",
              "      <div>\n",
              "<style scoped>\n",
              "    .dataframe tbody tr th:only-of-type {\n",
              "        vertical-align: middle;\n",
              "    }\n",
              "\n",
              "    .dataframe tbody tr th {\n",
              "        vertical-align: top;\n",
              "    }\n",
              "\n",
              "    .dataframe thead th {\n",
              "        text-align: right;\n",
              "    }\n",
              "</style>\n",
              "<table border=\"1\" class=\"dataframe\">\n",
              "  <thead>\n",
              "    <tr style=\"text-align: right;\">\n",
              "      <th></th>\n",
              "      <th>Survived</th>\n",
              "      <th>Pclass</th>\n",
              "      <th>Sex</th>\n",
              "      <th>Ticket</th>\n",
              "      <th>Cabin</th>\n",
              "      <th>Embarked</th>\n",
              "    </tr>\n",
              "  </thead>\n",
              "  <tbody>\n",
              "    <tr>\n",
              "      <th>0</th>\n",
              "      <td>0</td>\n",
              "      <td>3</td>\n",
              "      <td>male</td>\n",
              "      <td>A/5 21171</td>\n",
              "      <td>NaN</td>\n",
              "      <td>S</td>\n",
              "    </tr>\n",
              "    <tr>\n",
              "      <th>1</th>\n",
              "      <td>1</td>\n",
              "      <td>1</td>\n",
              "      <td>female</td>\n",
              "      <td>PC 17599</td>\n",
              "      <td>C85</td>\n",
              "      <td>C</td>\n",
              "    </tr>\n",
              "    <tr>\n",
              "      <th>2</th>\n",
              "      <td>1</td>\n",
              "      <td>3</td>\n",
              "      <td>female</td>\n",
              "      <td>STON/O2. 3101282</td>\n",
              "      <td>NaN</td>\n",
              "      <td>S</td>\n",
              "    </tr>\n",
              "    <tr>\n",
              "      <th>3</th>\n",
              "      <td>1</td>\n",
              "      <td>1</td>\n",
              "      <td>female</td>\n",
              "      <td>113803</td>\n",
              "      <td>C123</td>\n",
              "      <td>S</td>\n",
              "    </tr>\n",
              "    <tr>\n",
              "      <th>4</th>\n",
              "      <td>0</td>\n",
              "      <td>3</td>\n",
              "      <td>male</td>\n",
              "      <td>373450</td>\n",
              "      <td>NaN</td>\n",
              "      <td>S</td>\n",
              "    </tr>\n",
              "    <tr>\n",
              "      <th>...</th>\n",
              "      <td>...</td>\n",
              "      <td>...</td>\n",
              "      <td>...</td>\n",
              "      <td>...</td>\n",
              "      <td>...</td>\n",
              "      <td>...</td>\n",
              "    </tr>\n",
              "    <tr>\n",
              "      <th>886</th>\n",
              "      <td>0</td>\n",
              "      <td>2</td>\n",
              "      <td>male</td>\n",
              "      <td>211536</td>\n",
              "      <td>NaN</td>\n",
              "      <td>S</td>\n",
              "    </tr>\n",
              "    <tr>\n",
              "      <th>887</th>\n",
              "      <td>1</td>\n",
              "      <td>1</td>\n",
              "      <td>female</td>\n",
              "      <td>112053</td>\n",
              "      <td>B42</td>\n",
              "      <td>S</td>\n",
              "    </tr>\n",
              "    <tr>\n",
              "      <th>888</th>\n",
              "      <td>0</td>\n",
              "      <td>3</td>\n",
              "      <td>female</td>\n",
              "      <td>W./C. 6607</td>\n",
              "      <td>NaN</td>\n",
              "      <td>S</td>\n",
              "    </tr>\n",
              "    <tr>\n",
              "      <th>889</th>\n",
              "      <td>1</td>\n",
              "      <td>1</td>\n",
              "      <td>male</td>\n",
              "      <td>111369</td>\n",
              "      <td>C148</td>\n",
              "      <td>C</td>\n",
              "    </tr>\n",
              "    <tr>\n",
              "      <th>890</th>\n",
              "      <td>0</td>\n",
              "      <td>3</td>\n",
              "      <td>male</td>\n",
              "      <td>370376</td>\n",
              "      <td>NaN</td>\n",
              "      <td>Q</td>\n",
              "    </tr>\n",
              "  </tbody>\n",
              "</table>\n",
              "<p>891 rows × 6 columns</p>\n",
              "</div>\n",
              "      <button class=\"colab-df-convert\" onclick=\"convertToInteractive('df-4c247207-4bf7-4bb6-9364-0006da3b3051')\"\n",
              "              title=\"Convert this dataframe to an interactive table.\"\n",
              "              style=\"display:none;\">\n",
              "        \n",
              "  <svg xmlns=\"http://www.w3.org/2000/svg\" height=\"24px\"viewBox=\"0 0 24 24\"\n",
              "       width=\"24px\">\n",
              "    <path d=\"M0 0h24v24H0V0z\" fill=\"none\"/>\n",
              "    <path d=\"M18.56 5.44l.94 2.06.94-2.06 2.06-.94-2.06-.94-.94-2.06-.94 2.06-2.06.94zm-11 1L8.5 8.5l.94-2.06 2.06-.94-2.06-.94L8.5 2.5l-.94 2.06-2.06.94zm10 10l.94 2.06.94-2.06 2.06-.94-2.06-.94-.94-2.06-.94 2.06-2.06.94z\"/><path d=\"M17.41 7.96l-1.37-1.37c-.4-.4-.92-.59-1.43-.59-.52 0-1.04.2-1.43.59L10.3 9.45l-7.72 7.72c-.78.78-.78 2.05 0 2.83L4 21.41c.39.39.9.59 1.41.59.51 0 1.02-.2 1.41-.59l7.78-7.78 2.81-2.81c.8-.78.8-2.07 0-2.86zM5.41 20L4 18.59l7.72-7.72 1.47 1.35L5.41 20z\"/>\n",
              "  </svg>\n",
              "      </button>\n",
              "      \n",
              "  <style>\n",
              "    .colab-df-container {\n",
              "      display:flex;\n",
              "      flex-wrap:wrap;\n",
              "      gap: 12px;\n",
              "    }\n",
              "\n",
              "    .colab-df-convert {\n",
              "      background-color: #E8F0FE;\n",
              "      border: none;\n",
              "      border-radius: 50%;\n",
              "      cursor: pointer;\n",
              "      display: none;\n",
              "      fill: #1967D2;\n",
              "      height: 32px;\n",
              "      padding: 0 0 0 0;\n",
              "      width: 32px;\n",
              "    }\n",
              "\n",
              "    .colab-df-convert:hover {\n",
              "      background-color: #E2EBFA;\n",
              "      box-shadow: 0px 1px 2px rgba(60, 64, 67, 0.3), 0px 1px 3px 1px rgba(60, 64, 67, 0.15);\n",
              "      fill: #174EA6;\n",
              "    }\n",
              "\n",
              "    [theme=dark] .colab-df-convert {\n",
              "      background-color: #3B4455;\n",
              "      fill: #D2E3FC;\n",
              "    }\n",
              "\n",
              "    [theme=dark] .colab-df-convert:hover {\n",
              "      background-color: #434B5C;\n",
              "      box-shadow: 0px 1px 3px 1px rgba(0, 0, 0, 0.15);\n",
              "      filter: drop-shadow(0px 1px 2px rgba(0, 0, 0, 0.3));\n",
              "      fill: #FFFFFF;\n",
              "    }\n",
              "  </style>\n",
              "\n",
              "      <script>\n",
              "        const buttonEl =\n",
              "          document.querySelector('#df-4c247207-4bf7-4bb6-9364-0006da3b3051 button.colab-df-convert');\n",
              "        buttonEl.style.display =\n",
              "          google.colab.kernel.accessAllowed ? 'block' : 'none';\n",
              "\n",
              "        async function convertToInteractive(key) {\n",
              "          const element = document.querySelector('#df-4c247207-4bf7-4bb6-9364-0006da3b3051');\n",
              "          const dataTable =\n",
              "            await google.colab.kernel.invokeFunction('convertToInteractive',\n",
              "                                                     [key], {});\n",
              "          if (!dataTable) return;\n",
              "\n",
              "          const docLinkHtml = 'Like what you see? Visit the ' +\n",
              "            '<a target=\"_blank\" href=https://colab.research.google.com/notebooks/data_table.ipynb>data table notebook</a>'\n",
              "            + ' to learn more about interactive tables.';\n",
              "          element.innerHTML = '';\n",
              "          dataTable['output_type'] = 'display_data';\n",
              "          await google.colab.output.renderOutput(dataTable, element);\n",
              "          const docLink = document.createElement('div');\n",
              "          docLink.innerHTML = docLinkHtml;\n",
              "          element.appendChild(docLink);\n",
              "        }\n",
              "      </script>\n",
              "    </div>\n",
              "  </div>\n",
              "  "
            ]
          },
          "metadata": {},
          "execution_count": 118
        }
      ]
    },
    {
      "cell_type": "markdown",
      "metadata": {
        "id": "SKnUlfrkdlRF"
      },
      "source": [
        "\n",
        "\n",
        "## Missing Data\n",
        "\n",
        "Let's explore the null entries in our dataset. \n",
        "\n",
        "We can use seaborn to create a simple heatmap to see where we are missing data!"
      ]
    },
    {
      "cell_type": "code",
      "source": [
        "# Check number of null values in a column\n",
        "\n",
        "train.isnull().sum()"
      ],
      "metadata": {
        "colab": {
          "base_uri": "https://localhost:8080/"
        },
        "id": "tYOsszglcBOM",
        "outputId": "d5e33011-999a-4031-921b-4b6c9d3d0118"
      },
      "execution_count": 18,
      "outputs": [
        {
          "output_type": "execute_result",
          "data": {
            "text/plain": [
              "PassengerId      0\n",
              "Survived         0\n",
              "Pclass           0\n",
              "Name             0\n",
              "Sex              0\n",
              "Age            177\n",
              "SibSp            0\n",
              "Parch            0\n",
              "Ticket           0\n",
              "Fare             0\n",
              "Embarked         2\n",
              "dtype: int64"
            ]
          },
          "metadata": {},
          "execution_count": 18
        }
      ]
    },
    {
      "cell_type": "code",
      "execution_count": 11,
      "metadata": {
        "colab": {
          "base_uri": "https://localhost:8080/",
          "height": 333
        },
        "id": "w5jvuMagdlRG",
        "outputId": "b3ba1306-2cd4-49e9-e8ac-17e7469898f4"
      },
      "outputs": [
        {
          "output_type": "execute_result",
          "data": {
            "text/plain": [
              "<matplotlib.axes._subplots.AxesSubplot at 0x7fa4fe469750>"
            ]
          },
          "metadata": {},
          "execution_count": 11
        },
        {
          "output_type": "display_data",
          "data": {
            "text/plain": [
              "<Figure size 432x288 with 1 Axes>"
            ],
            "image/png": "[encoded data removed]"
          },
          "metadata": {
            "needs_background": "light"
          }
        }
      ],
      "source": [
        "sns.heatmap(train.isnull(),yticklabels=False,cbar=False,cmap='viridis')"
      ]
    },
    {
      "cell_type": "markdown",
      "source": [
        "Here, we can see that the ‘Cabin’ column has the most number of missing values so we will be dropping it. "
      ],
      "metadata": {
        "id": "94K7dqijcGvO"
      }
    },
    {
      "cell_type": "markdown",
      "metadata": {
        "id": "xhx0sXZHdlRH"
      },
      "source": [
        "Roughly 20 percent of the Age data is missing. The proportion of Age missing is likely small enough for reasonable replacement with some form of imputation. Looking at the Cabin column, it looks like we are just missing too much of that data to do something useful with at a basic level. We'll probably drop this later, or change it to another feature like \"Cabin Known: 1 or 0\"\n",
        "\n",
        "Let's continue on by visualizing some more of the data! "
      ]
    },
    {
      "cell_type": "code",
      "source": [
        "train.drop('Cabin',axis=1,inplace=True)"
      ],
      "metadata": {
        "id": "CiyKhHNOcjEG"
      },
      "execution_count": 12,
      "outputs": []
    },
    {
      "cell_type": "code",
      "source": [
        "sns.heatmap(train.isnull(),yticklabels=False,cbar=False,cmap='viridis')"
      ],
      "metadata": {
        "colab": {
          "base_uri": "https://localhost:8080/",
          "height": 333
        },
        "id": "o28RhSLZcc67",
        "outputId": "3ad669ed-7fcc-4075-f37e-64fffb967ade"
      },
      "execution_count": 13,
      "outputs": [
        {
          "output_type": "execute_result",
          "data": {
            "text/plain": [
              "<matplotlib.axes._subplots.AxesSubplot at 0x7fa4fbb71150>"
            ]
          },
          "metadata": {},
          "execution_count": 13
        },
        {
          "output_type": "display_data",
          "data": {
            "text/plain": [
              "<Figure size 432x288 with 1 Axes>"
            ],
            "image/png": "[encoded data removed]"
          },
          "metadata": {
            "needs_background": "light"
          }
        }
      ]
    },
    {
      "cell_type": "code",
      "source": [
        "# Check number of null values in a column\n",
        "\n",
        "train.isnull().sum()"
      ],
      "metadata": {
        "colab": {
          "base_uri": "https://localhost:8080/"
        },
        "id": "H-wB_ohtcpuH",
        "outputId": "ff2caa80-01ff-4343-81c4-4cb3692b49e5"
      },
      "execution_count": 14,
      "outputs": [
        {
          "output_type": "execute_result",
          "data": {
            "text/plain": [
              "PassengerId      0\n",
              "Survived         0\n",
              "Pclass           0\n",
              "Name             0\n",
              "Sex              0\n",
              "Age            177\n",
              "SibSp            0\n",
              "Parch            0\n",
              "Ticket           0\n",
              "Fare             0\n",
              "Embarked         2\n",
              "dtype: int64"
            ]
          },
          "metadata": {},
          "execution_count": 14
        }
      ]
    },
    {
      "cell_type": "code",
      "source": [
        "train.columns"
      ],
      "metadata": {
        "colab": {
          "base_uri": "https://localhost:8080/"
        },
        "id": "TxnSi7CWcq7R",
        "outputId": "dcfd52cf-0ff6-4520-9506-855ad43f164d"
      },
      "execution_count": 15,
      "outputs": [
        {
          "output_type": "execute_result",
          "data": {
            "text/plain": [
              "Index(['PassengerId', 'Survived', 'Pclass', 'Name', 'Sex', 'Age', 'SibSp',\n",
              "       'Parch', 'Ticket', 'Fare', 'Embarked'],\n",
              "      dtype='object')"
            ]
          },
          "metadata": {},
          "execution_count": 15
        }
      ]
    },
    {
      "cell_type": "code",
      "source": [
        "train.head()"
      ],
      "metadata": {
        "colab": {
          "base_uri": "https://localhost:8080/",
          "height": 206
        },
        "id": "CHGQliGLcsxw",
        "outputId": "cd6f9ceb-6bba-4777-f365-108cf5b8ceb5"
      },
      "execution_count": 16,
      "outputs": [
        {
          "output_type": "execute_result",
          "data": {
            "text/plain": [
              "   PassengerId  Survived  Pclass  \\\n",
              "0            1         0       3   \n",
              "1            2         1       1   \n",
              "2            3         1       3   \n",
              "3            4         1       1   \n",
              "4            5         0       3   \n",
              "\n",
              "                                                Name     Sex   Age  SibSp  \\\n",
              "0                            Braund, Mr. Owen Harris    male  22.0      1   \n",
              "1  Cumings, Mrs. John Bradley (Florence Briggs Th...  female  38.0      1   \n",
              "2                             Heikkinen, Miss. Laina  female  26.0      0   \n",
              "3       Futrelle, Mrs. Jacques Heath (Lily May Peel)  female  35.0      1   \n",
              "4                           Allen, Mr. William Henry    male  35.0      0   \n",
              "\n",
              "   Parch            Ticket     Fare Embarked  \n",
              "0      0         A/5 21171   7.2500        S  \n",
              "1      0          PC 17599  71.2833        C  \n",
              "2      0  STON/O2. 3101282   7.9250        S  \n",
              "3      0            113803  53.1000        S  \n",
              "4      0            373450   8.0500        S  "
            ],
            "text/html": [
              "\n",
              "  <div id=\"df-ce1d1420-47af-4a29-a441-7d436050e35f\">\n",
              "    <div class=\"colab-df-container\">\n",
              "      <div>\n",
              "<style scoped>\n",
              "    .dataframe tbody tr th:only-of-type {\n",
              "        vertical-align: middle;\n",
              "    }\n",
              "\n",
              "    .dataframe tbody tr th {\n",
              "        vertical-align: top;\n",
              "    }\n",
              "\n",
              "    .dataframe thead th {\n",
              "        text-align: right;\n",
              "    }\n",
              "</style>\n",
              "<table border=\"1\" class=\"dataframe\">\n",
              "  <thead>\n",
              "    <tr style=\"text-align: right;\">\n",
              "      <th></th>\n",
              "      <th>PassengerId</th>\n",
              "      <th>Survived</th>\n",
              "      <th>Pclass</th>\n",
              "      <th>Name</th>\n",
              "      <th>Sex</th>\n",
              "      <th>Age</th>\n",
              "      <th>SibSp</th>\n",
              "      <th>Parch</th>\n",
              "      <th>Ticket</th>\n",
              "      <th>Fare</th>\n",
              "      <th>Embarked</th>\n",
              "    </tr>\n",
              "  </thead>\n",
              "  <tbody>\n",
              "    <tr>\n",
              "      <th>0</th>\n",
              "      <td>1</td>\n",
              "      <td>0</td>\n",
              "      <td>3</td>\n",
              "      <td>Braund, Mr. Owen Harris</td>\n",
              "      <td>male</td>\n",
              "      <td>22.0</td>\n",
              "      <td>1</td>\n",
              "      <td>0</td>\n",
              "      <td>A/5 21171</td>\n",
              "      <td>7.2500</td>\n",
              "      <td>S</td>\n",
              "    </tr>\n",
              "    <tr>\n",
              "      <th>1</th>\n",
              "      <td>2</td>\n",
              "      <td>1</td>\n",
              "      <td>1</td>\n",
              "      <td>Cumings, Mrs. John Bradley (Florence Briggs Th...</td>\n",
              "      <td>female</td>\n",
              "      <td>38.0</td>\n",
              "      <td>1</td>\n",
              "      <td>0</td>\n",
              "      <td>PC 17599</td>\n",
              "      <td>71.2833</td>\n",
              "      <td>C</td>\n",
              "    </tr>\n",
              "    <tr>\n",
              "      <th>2</th>\n",
              "      <td>3</td>\n",
              "      <td>1</td>\n",
              "      <td>3</td>\n",
              "      <td>Heikkinen, Miss. Laina</td>\n",
              "      <td>female</td>\n",
              "      <td>26.0</td>\n",
              "      <td>0</td>\n",
              "      <td>0</td>\n",
              "      <td>STON/O2. 3101282</td>\n",
              "      <td>7.9250</td>\n",
              "      <td>S</td>\n",
              "    </tr>\n",
              "    <tr>\n",
              "      <th>3</th>\n",
              "      <td>4</td>\n",
              "      <td>1</td>\n",
              "      <td>1</td>\n",
              "      <td>Futrelle, Mrs. Jacques Heath (Lily May Peel)</td>\n",
              "      <td>female</td>\n",
              "      <td>35.0</td>\n",
              "      <td>1</td>\n",
              "      <td>0</td>\n",
              "      <td>113803</td>\n",
              "      <td>53.1000</td>\n",
              "      <td>S</td>\n",
              "    </tr>\n",
              "    <tr>\n",
              "      <th>4</th>\n",
              "      <td>5</td>\n",
              "      <td>0</td>\n",
              "      <td>3</td>\n",
              "      <td>Allen, Mr. William Henry</td>\n",
              "      <td>male</td>\n",
              "      <td>35.0</td>\n",
              "      <td>0</td>\n",
              "      <td>0</td>\n",
              "      <td>373450</td>\n",
              "      <td>8.0500</td>\n",
              "      <td>S</td>\n",
              "    </tr>\n",
              "  </tbody>\n",
              "</table>\n",
              "</div>\n",
              "      <button class=\"colab-df-convert\" onclick=\"convertToInteractive('df-ce1d1420-47af-4a29-a441-7d436050e35f')\"\n",
              "              title=\"Convert this dataframe to an interactive table.\"\n",
              "              style=\"display:none;\">\n",
              "        \n",
              "  <svg xmlns=\"http://www.w3.org/2000/svg\" height=\"24px\"viewBox=\"0 0 24 24\"\n",
              "       width=\"24px\">\n",
              "    <path d=\"M0 0h24v24H0V0z\" fill=\"none\"/>\n",
              "    <path d=\"M18.56 5.44l.94 2.06.94-2.06 2.06-.94-2.06-.94-.94-2.06-.94 2.06-2.06.94zm-11 1L8.5 8.5l.94-2.06 2.06-.94-2.06-.94L8.5 2.5l-.94 2.06-2.06.94zm10 10l.94 2.06.94-2.06 2.06-.94-2.06-.94-.94-2.06-.94 2.06-2.06.94z\"/><path d=\"M17.41 7.96l-1.37-1.37c-.4-.4-.92-.59-1.43-.59-.52 0-1.04.2-1.43.59L10.3 9.45l-7.72 7.72c-.78.78-.78 2.05 0 2.83L4 21.41c.39.39.9.59 1.41.59.51 0 1.02-.2 1.41-.59l7.78-7.78 2.81-2.81c.8-.78.8-2.07 0-2.86zM5.41 20L4 18.59l7.72-7.72 1.47 1.35L5.41 20z\"/>\n",
              "  </svg>\n",
              "      </button>\n",
              "      \n",
              "  <style>\n",
              "    .colab-df-container {\n",
              "      display:flex;\n",
              "      flex-wrap:wrap;\n",
              "      gap: 12px;\n",
              "    }\n",
              "\n",
              "    .colab-df-convert {\n",
              "      background-color: #E8F0FE;\n",
              "      border: none;\n",
              "      border-radius: 50%;\n",
              "      cursor: pointer;\n",
              "      display: none;\n",
              "      fill: #1967D2;\n",
              "      height: 32px;\n",
              "      padding: 0 0 0 0;\n",
              "      width: 32px;\n",
              "    }\n",
              "\n",
              "    .colab-df-convert:hover {\n",
              "      background-color: #E2EBFA;\n",
              "      box-shadow: 0px 1px 2px rgba(60, 64, 67, 0.3), 0px 1px 3px 1px rgba(60, 64, 67, 0.15);\n",
              "      fill: #174EA6;\n",
              "    }\n",
              "\n",
              "    [theme=dark] .colab-df-convert {\n",
              "      background-color: #3B4455;\n",
              "      fill: #D2E3FC;\n",
              "    }\n",
              "\n",
              "    [theme=dark] .colab-df-convert:hover {\n",
              "      background-color: #434B5C;\n",
              "      box-shadow: 0px 1px 3px 1px rgba(0, 0, 0, 0.15);\n",
              "      filter: drop-shadow(0px 1px 2px rgba(0, 0, 0, 0.3));\n",
              "      fill: #FFFFFF;\n",
              "    }\n",
              "  </style>\n",
              "\n",
              "      <script>\n",
              "        const buttonEl =\n",
              "          document.querySelector('#df-ce1d1420-47af-4a29-a441-7d436050e35f button.colab-df-convert');\n",
              "        buttonEl.style.display =\n",
              "          google.colab.kernel.accessAllowed ? 'block' : 'none';\n",
              "\n",
              "        async function convertToInteractive(key) {\n",
              "          const element = document.querySelector('#df-ce1d1420-47af-4a29-a441-7d436050e35f');\n",
              "          const dataTable =\n",
              "            await google.colab.kernel.invokeFunction('convertToInteractive',\n",
              "                                                     [key], {});\n",
              "          if (!dataTable) return;\n",
              "\n",
              "          const docLinkHtml = 'Like what you see? Visit the ' +\n",
              "            '<a target=\"_blank\" href=https://colab.research.google.com/notebooks/data_table.ipynb>data table notebook</a>'\n",
              "            + ' to learn more about interactive tables.';\n",
              "          element.innerHTML = '';\n",
              "          dataTable['output_type'] = 'display_data';\n",
              "          await google.colab.output.renderOutput(dataTable, element);\n",
              "          const docLink = document.createElement('div');\n",
              "          docLink.innerHTML = docLinkHtml;\n",
              "          element.appendChild(docLink);\n",
              "        }\n",
              "      </script>\n",
              "    </div>\n",
              "  </div>\n",
              "  "
            ]
          },
          "metadata": {},
          "execution_count": 16
        }
      ]
    },
    {
      "cell_type": "markdown",
      "source": [
        "## Detecting Outliers "
      ],
      "metadata": {
        "id": "-XQbdn37mR5-"
      }
    },
    {
      "cell_type": "markdown",
      "source": [
        "Let's take a deeper look into the numerical data that we have. How are these columns distributed? "
      ],
      "metadata": {
        "id": "dSPPwXC0di--"
      }
    },
    {
      "cell_type": "code",
      "source": [
        "train['Fare'].hist(bins=30,color='pink')"
      ],
      "metadata": {
        "colab": {
          "base_uri": "https://localhost:8080/",
          "height": 282
        },
        "id": "UVb0L80ZmZPJ",
        "outputId": "106a385d-d4dc-4c43-c69a-d65372e93933"
      },
      "execution_count": null,
      "outputs": [
        {
          "output_type": "execute_result",
          "data": {
            "text/plain": [
              "<matplotlib.axes._subplots.AxesSubplot at 0x7f643436f850>"
            ]
          },
          "metadata": {},
          "execution_count": 126
        },
        {
          "output_type": "display_data",
          "data": {
            "text/plain": [
              "<Figure size 432x288 with 1 Axes>"
            ],
            "image/png": "[encoded data removed]"
          },
          "metadata": {
            "needs_background": "light"
          }
        }
      ]
    },
    {
      "cell_type": "code",
      "source": [
        "train[train['Fare'] > 500]"
      ],
      "metadata": {
        "colab": {
          "base_uri": "https://localhost:8080/",
          "height": 143
        },
        "id": "truyWxFWmeUJ",
        "outputId": "13cfdccf-cb86-4c7b-b2e7-359e1f2f2ad2"
      },
      "execution_count": null,
      "outputs": [
        {
          "output_type": "execute_result",
          "data": {
            "text/plain": [
              "     PassengerId  Survived  Pclass                                Name  \\\n",
              "258          259         1       1                    Ward, Miss. Anna   \n",
              "679          680         1       1  Cardeza, Mr. Thomas Drake Martinez   \n",
              "737          738         1       1              Lesurer, Mr. Gustave J   \n",
              "\n",
              "        Sex   Age  SibSp  Parch    Ticket      Fare Embarked  \n",
              "258  female  35.0      0      0  PC 17755  512.3292        C  \n",
              "679    male  36.0      0      1  PC 17755  512.3292        C  \n",
              "737    male  35.0      0      0  PC 17755  512.3292        C  "
            ],
            "text/html": [
              "\n",
              "  <div id=\"df-5ed0aa5f-1777-4dd8-a7a7-11ac00f33238\">\n",
              "    <div class=\"colab-df-container\">\n",
              "      <div>\n",
              "<style scoped>\n",
              "    .dataframe tbody tr th:only-of-type {\n",
              "        vertical-align: middle;\n",
              "    }\n",
              "\n",
              "    .dataframe tbody tr th {\n",
              "        vertical-align: top;\n",
              "    }\n",
              "\n",
              "    .dataframe thead th {\n",
              "        text-align: right;\n",
              "    }\n",
              "</style>\n",
              "<table border=\"1\" class=\"dataframe\">\n",
              "  <thead>\n",
              "    <tr style=\"text-align: right;\">\n",
              "      <th></th>\n",
              "      <th>PassengerId</th>\n",
              "      <th>Survived</th>\n",
              "      <th>Pclass</th>\n",
              "      <th>Name</th>\n",
              "      <th>Sex</th>\n",
              "      <th>Age</th>\n",
              "      <th>SibSp</th>\n",
              "      <th>Parch</th>\n",
              "      <th>Ticket</th>\n",
              "      <th>Fare</th>\n",
              "      <th>Embarked</th>\n",
              "    </tr>\n",
              "  </thead>\n",
              "  <tbody>\n",
              "    <tr>\n",
              "      <th>258</th>\n",
              "      <td>259</td>\n",
              "      <td>1</td>\n",
              "      <td>1</td>\n",
              "      <td>Ward, Miss. Anna</td>\n",
              "      <td>female</td>\n",
              "      <td>35.0</td>\n",
              "      <td>0</td>\n",
              "      <td>0</td>\n",
              "      <td>PC 17755</td>\n",
              "      <td>512.3292</td>\n",
              "      <td>C</td>\n",
              "    </tr>\n",
              "    <tr>\n",
              "      <th>679</th>\n",
              "      <td>680</td>\n",
              "      <td>1</td>\n",
              "      <td>1</td>\n",
              "      <td>Cardeza, Mr. Thomas Drake Martinez</td>\n",
              "      <td>male</td>\n",
              "      <td>36.0</td>\n",
              "      <td>0</td>\n",
              "      <td>1</td>\n",
              "      <td>PC 17755</td>\n",
              "      <td>512.3292</td>\n",
              "      <td>C</td>\n",
              "    </tr>\n",
              "    <tr>\n",
              "      <th>737</th>\n",
              "      <td>738</td>\n",
              "      <td>1</td>\n",
              "      <td>1</td>\n",
              "      <td>Lesurer, Mr. Gustave J</td>\n",
              "      <td>male</td>\n",
              "      <td>35.0</td>\n",
              "      <td>0</td>\n",
              "      <td>0</td>\n",
              "      <td>PC 17755</td>\n",
              "      <td>512.3292</td>\n",
              "      <td>C</td>\n",
              "    </tr>\n",
              "  </tbody>\n",
              "</table>\n",
              "</div>\n",
              "      <button class=\"colab-df-convert\" onclick=\"convertToInteractive('df-5ed0aa5f-1777-4dd8-a7a7-11ac00f33238')\"\n",
              "              title=\"Convert this dataframe to an interactive table.\"\n",
              "              style=\"display:none;\">\n",
              "        \n",
              "  <svg xmlns=\"http://www.w3.org/2000/svg\" height=\"24px\"viewBox=\"0 0 24 24\"\n",
              "       width=\"24px\">\n",
              "    <path d=\"M0 0h24v24H0V0z\" fill=\"none\"/>\n",
              "    <path d=\"M18.56 5.44l.94 2.06.94-2.06 2.06-.94-2.06-.94-.94-2.06-.94 2.06-2.06.94zm-11 1L8.5 8.5l.94-2.06 2.06-.94-2.06-.94L8.5 2.5l-.94 2.06-2.06.94zm10 10l.94 2.06.94-2.06 2.06-.94-2.06-.94-.94-2.06-.94 2.06-2.06.94z\"/><path d=\"M17.41 7.96l-1.37-1.37c-.4-.4-.92-.59-1.43-.59-.52 0-1.04.2-1.43.59L10.3 9.45l-7.72 7.72c-.78.78-.78 2.05 0 2.83L4 21.41c.39.39.9.59 1.41.59.51 0 1.02-.2 1.41-.59l7.78-7.78 2.81-2.81c.8-.78.8-2.07 0-2.86zM5.41 20L4 18.59l7.72-7.72 1.47 1.35L5.41 20z\"/>\n",
              "  </svg>\n",
              "      </button>\n",
              "      \n",
              "  <style>\n",
              "    .colab-df-container {\n",
              "      display:flex;\n",
              "      flex-wrap:wrap;\n",
              "      gap: 12px;\n",
              "    }\n",
              "\n",
              "    .colab-df-convert {\n",
              "      background-color: #E8F0FE;\n",
              "      border: none;\n",
              "      border-radius: 50%;\n",
              "      cursor: pointer;\n",
              "      display: none;\n",
              "      fill: #1967D2;\n",
              "      height: 32px;\n",
              "      padding: 0 0 0 0;\n",
              "      width: 32px;\n",
              "    }\n",
              "\n",
              "    .colab-df-convert:hover {\n",
              "      background-color: #E2EBFA;\n",
              "      box-shadow: 0px 1px 2px rgba(60, 64, 67, 0.3), 0px 1px 3px 1px rgba(60, 64, 67, 0.15);\n",
              "      fill: #174EA6;\n",
              "    }\n",
              "\n",
              "    [theme=dark] .colab-df-convert {\n",
              "      background-color: #3B4455;\n",
              "      fill: #D2E3FC;\n",
              "    }\n",
              "\n",
              "    [theme=dark] .colab-df-convert:hover {\n",
              "      background-color: #434B5C;\n",
              "      box-shadow: 0px 1px 3px 1px rgba(0, 0, 0, 0.15);\n",
              "      filter: drop-shadow(0px 1px 2px rgba(0, 0, 0, 0.3));\n",
              "      fill: #FFFFFF;\n",
              "    }\n",
              "  </style>\n",
              "\n",
              "      <script>\n",
              "        const buttonEl =\n",
              "          document.querySelector('#df-5ed0aa5f-1777-4dd8-a7a7-11ac00f33238 button.colab-df-convert');\n",
              "        buttonEl.style.display =\n",
              "          google.colab.kernel.accessAllowed ? 'block' : 'none';\n",
              "\n",
              "        async function convertToInteractive(key) {\n",
              "          const element = document.querySelector('#df-5ed0aa5f-1777-4dd8-a7a7-11ac00f33238');\n",
              "          const dataTable =\n",
              "            await google.colab.kernel.invokeFunction('convertToInteractive',\n",
              "                                                     [key], {});\n",
              "          if (!dataTable) return;\n",
              "\n",
              "          const docLinkHtml = 'Like what you see? Visit the ' +\n",
              "            '<a target=\"_blank\" href=https://colab.research.google.com/notebooks/data_table.ipynb>data table notebook</a>'\n",
              "            + ' to learn more about interactive tables.';\n",
              "          element.innerHTML = '';\n",
              "          dataTable['output_type'] = 'display_data';\n",
              "          await google.colab.output.renderOutput(dataTable, element);\n",
              "          const docLink = document.createElement('div');\n",
              "          docLink.innerHTML = docLinkHtml;\n",
              "          element.appendChild(docLink);\n",
              "        }\n",
              "      </script>\n",
              "    </div>\n",
              "  </div>\n",
              "  "
            ]
          },
          "metadata": {},
          "execution_count": 127
        }
      ]
    },
    {
      "cell_type": "code",
      "execution_count": null,
      "metadata": {
        "colab": {
          "base_uri": "https://localhost:8080/",
          "height": 282
        },
        "id": "FVeQlEkmdlRK",
        "outputId": "c9bdbab9-3400-43b7-faaa-5b743a4fee2b"
      },
      "outputs": [
        {
          "output_type": "execute_result",
          "data": {
            "text/plain": [
              "<matplotlib.axes._subplots.AxesSubplot at 0x7f6434058490>"
            ]
          },
          "metadata": {},
          "execution_count": 128
        },
        {
          "output_type": "display_data",
          "data": {
            "text/plain": [
              "<Figure size 432x288 with 1 Axes>"
            ],
            "image/png": "[encoded data removed]"
          },
          "metadata": {
            "needs_background": "light"
          }
        }
      ],
      "source": [
        "train['Age'].hist(bins=30,color='darkred')"
      ]
    },
    {
      "cell_type": "code",
      "execution_count": null,
      "metadata": {
        "colab": {
          "base_uri": "https://localhost:8080/",
          "height": 296
        },
        "id": "w0-ycbwpdlRK",
        "outputId": "8c8c5e98-9738-4151-8e7a-86b0fd8db364"
      },
      "outputs": [
        {
          "output_type": "execute_result",
          "data": {
            "text/plain": [
              "<matplotlib.axes._subplots.AxesSubplot at 0x7f643390c750>"
            ]
          },
          "metadata": {},
          "execution_count": 129
        },
        {
          "output_type": "display_data",
          "data": {
            "text/plain": [
              "<Figure size 432x288 with 1 Axes>"
            ],
            "image/png": "[encoded data removed]"
          },
          "metadata": {
            "needs_background": "light"
          }
        }
      ],
      "source": [
        "sns.countplot(x='SibSp',data=train)"
      ]
    },
    {
      "cell_type": "code",
      "execution_count": null,
      "metadata": {
        "colab": {
          "base_uri": "https://localhost:8080/",
          "height": 284
        },
        "id": "ibn-w85bdlRL",
        "outputId": "5c09174a-8cfe-408c-83bc-aa5298ce59a4"
      },
      "outputs": [
        {
          "output_type": "execute_result",
          "data": {
            "text/plain": [
              "<matplotlib.axes._subplots.AxesSubplot at 0x7f64338e7bd0>"
            ]
          },
          "metadata": {},
          "execution_count": 130
        },
        {
          "output_type": "display_data",
          "data": {
            "text/plain": [
              "<Figure size 576x288 with 1 Axes>"
            ],
            "image/png": "[encoded data removed]"
          },
          "metadata": {
            "needs_background": "light"
          }
        }
      ],
      "source": [
        "train['Fare'].hist(color='green',bins=40,figsize=(8,4))"
      ]
    },
    {
      "cell_type": "markdown",
      "metadata": {
        "id": "BzEumjredlRM"
      },
      "source": [
        "\n",
        "## Data Cleaning\n",
        "We want to fill in missing age data instead of just dropping the missing age data rows. One way to do this is by filling in the mean age of all the passengers (imputation).\n",
        "However we can be smarter about this and check the average age by passenger class. For example:\n"
      ]
    },
    {
      "cell_type": "code",
      "execution_count": 20,
      "metadata": {
        "colab": {
          "base_uri": "https://localhost:8080/",
          "height": 459
        },
        "id": "ONxPis5idlRM",
        "outputId": "0252e184-8f95-4cd7-f048-c62e98538924"
      },
      "outputs": [
        {
          "output_type": "execute_result",
          "data": {
            "text/plain": [
              "<matplotlib.axes._subplots.AxesSubplot at 0x7fa4fab7a150>"
            ]
          },
          "metadata": {},
          "execution_count": 20
        },
        {
          "output_type": "display_data",
          "data": {
            "text/plain": [
              "<Figure size 864x504 with 1 Axes>"
            ],
            "image/png": "[encoded data removed]"
          },
          "metadata": {
            "needs_background": "light"
          }
        }
      ],
      "source": [
        "plt.figure(figsize=(12, 7))\n",
        "sns.boxplot(x='Pclass',y='Age',data=train,palette='winter')"
      ]
    },
    {
      "cell_type": "markdown",
      "metadata": {
        "id": "uP8ZxrVbdlRN"
      },
      "source": [
        "We can see the wealthier passengers in the higher classes tend to be older, which makes sense. We'll use these average age values to impute based on Pclass for Age."
      ]
    },
    {
      "cell_type": "code",
      "execution_count": 21,
      "metadata": {
        "id": "PFuG_qsIdlRN"
      },
      "outputs": [],
      "source": [
        "def impute_age(cols):\n",
        "    Age = cols[0]\n",
        "    Pclass = cols[1]\n",
        "    \n",
        "    if pd.isnull(Age):\n",
        "\n",
        "        if Pclass == 1:\n",
        "            return 37\n",
        "\n",
        "        elif Pclass == 2:\n",
        "            return 29\n",
        "\n",
        "        else:\n",
        "            return 24\n",
        "\n",
        "    else:\n",
        "        return Age"
      ]
    },
    {
      "cell_type": "markdown",
      "metadata": {
        "id": "J04aSaufdlRN"
      },
      "source": [
        "Now apply that function!"
      ]
    },
    {
      "cell_type": "code",
      "execution_count": 22,
      "metadata": {
        "id": "xgrBCkdydlRO"
      },
      "outputs": [],
      "source": [
        "train['Age'] = train[['Age','Pclass']].apply(impute_age,axis=1)"
      ]
    },
    {
      "cell_type": "code",
      "source": [
        "# Check number of null values in a column\n",
        "\n",
        "train.isnull().sum()"
      ],
      "metadata": {
        "colab": {
          "base_uri": "https://localhost:8080/"
        },
        "id": "0-Pfx-koeaG8",
        "outputId": "e4f7e4fb-f54f-486c-facb-788055ce8c40"
      },
      "execution_count": 23,
      "outputs": [
        {
          "output_type": "execute_result",
          "data": {
            "text/plain": [
              "PassengerId    0\n",
              "Survived       0\n",
              "Pclass         0\n",
              "Name           0\n",
              "Sex            0\n",
              "Age            0\n",
              "SibSp          0\n",
              "Parch          0\n",
              "Ticket         0\n",
              "Fare           0\n",
              "Embarked       2\n",
              "dtype: int64"
            ]
          },
          "metadata": {},
          "execution_count": 23
        }
      ]
    },
    {
      "cell_type": "markdown",
      "metadata": {
        "id": "unNznZkAdlRO"
      },
      "source": [
        "Great! Let's go ahead and drop the rows in Embarked that are NaN."
      ]
    },
    {
      "cell_type": "code",
      "execution_count": 24,
      "metadata": {
        "colab": {
          "base_uri": "https://localhost:8080/",
          "height": 206
        },
        "id": "Q4IRzs9ndlRO",
        "outputId": "ad298eb7-d08f-48e2-9c26-b10ce9e41c0d"
      },
      "outputs": [
        {
          "output_type": "execute_result",
          "data": {
            "text/plain": [
              "   PassengerId  Survived  Pclass  \\\n",
              "0            1         0       3   \n",
              "1            2         1       1   \n",
              "2            3         1       3   \n",
              "3            4         1       1   \n",
              "4            5         0       3   \n",
              "\n",
              "                                                Name     Sex   Age  SibSp  \\\n",
              "0                            Braund, Mr. Owen Harris    male  22.0      1   \n",
              "1  Cumings, Mrs. John Bradley (Florence Briggs Th...  female  38.0      1   \n",
              "2                             Heikkinen, Miss. Laina  female  26.0      0   \n",
              "3       Futrelle, Mrs. Jacques Heath (Lily May Peel)  female  35.0      1   \n",
              "4                           Allen, Mr. William Henry    male  35.0      0   \n",
              "\n",
              "   Parch            Ticket     Fare Embarked  \n",
              "0      0         A/5 21171   7.2500        S  \n",
              "1      0          PC 17599  71.2833        C  \n",
              "2      0  STON/O2. 3101282   7.9250        S  \n",
              "3      0            113803  53.1000        S  \n",
              "4      0            373450   8.0500        S  "
            ],
            "text/html": [
              "\n",
              "  <div id=\"df-b131ec9c-c81c-4bb8-bc39-2fd8bb2068a3\">\n",
              "    <div class=\"colab-df-container\">\n",
              "      <div>\n",
              "<style scoped>\n",
              "    .dataframe tbody tr th:only-of-type {\n",
              "        vertical-align: middle;\n",
              "    }\n",
              "\n",
              "    .dataframe tbody tr th {\n",
              "        vertical-align: top;\n",
              "    }\n",
              "\n",
              "    .dataframe thead th {\n",
              "        text-align: right;\n",
              "    }\n",
              "</style>\n",
              "<table border=\"1\" class=\"dataframe\">\n",
              "  <thead>\n",
              "    <tr style=\"text-align: right;\">\n",
              "      <th></th>\n",
              "      <th>PassengerId</th>\n",
              "      <th>Survived</th>\n",
              "      <th>Pclass</th>\n",
              "      <th>Name</th>\n",
              "      <th>Sex</th>\n",
              "      <th>Age</th>\n",
              "      <th>SibSp</th>\n",
              "      <th>Parch</th>\n",
              "      <th>Ticket</th>\n",
              "      <th>Fare</th>\n",
              "      <th>Embarked</th>\n",
              "    </tr>\n",
              "  </thead>\n",
              "  <tbody>\n",
              "    <tr>\n",
              "      <th>0</th>\n",
              "      <td>1</td>\n",
              "      <td>0</td>\n",
              "      <td>3</td>\n",
              "      <td>Braund, Mr. Owen Harris</td>\n",
              "      <td>male</td>\n",
              "      <td>22.0</td>\n",
              "      <td>1</td>\n",
              "      <td>0</td>\n",
              "      <td>A/5 21171</td>\n",
              "      <td>7.2500</td>\n",
              "      <td>S</td>\n",
              "    </tr>\n",
              "    <tr>\n",
              "      <th>1</th>\n",
              "      <td>2</td>\n",
              "      <td>1</td>\n",
              "      <td>1</td>\n",
              "      <td>Cumings, Mrs. John Bradley (Florence Briggs Th...</td>\n",
              "      <td>female</td>\n",
              "      <td>38.0</td>\n",
              "      <td>1</td>\n",
              "      <td>0</td>\n",
              "      <td>PC 17599</td>\n",
              "      <td>71.2833</td>\n",
              "      <td>C</td>\n",
              "    </tr>\n",
              "    <tr>\n",
              "      <th>2</th>\n",
              "      <td>3</td>\n",
              "      <td>1</td>\n",
              "      <td>3</td>\n",
              "      <td>Heikkinen, Miss. Laina</td>\n",
              "      <td>female</td>\n",
              "      <td>26.0</td>\n",
              "      <td>0</td>\n",
              "      <td>0</td>\n",
              "      <td>STON/O2. 3101282</td>\n",
              "      <td>7.9250</td>\n",
              "      <td>S</td>\n",
              "    </tr>\n",
              "    <tr>\n",
              "      <th>3</th>\n",
              "      <td>4</td>\n",
              "      <td>1</td>\n",
              "      <td>1</td>\n",
              "      <td>Futrelle, Mrs. Jacques Heath (Lily May Peel)</td>\n",
              "      <td>female</td>\n",
              "      <td>35.0</td>\n",
              "      <td>1</td>\n",
              "      <td>0</td>\n",
              "      <td>113803</td>\n",
              "      <td>53.1000</td>\n",
              "      <td>S</td>\n",
              "    </tr>\n",
              "    <tr>\n",
              "      <th>4</th>\n",
              "      <td>5</td>\n",
              "      <td>0</td>\n",
              "      <td>3</td>\n",
              "      <td>Allen, Mr. William Henry</td>\n",
              "      <td>male</td>\n",
              "      <td>35.0</td>\n",
              "      <td>0</td>\n",
              "      <td>0</td>\n",
              "      <td>373450</td>\n",
              "      <td>8.0500</td>\n",
              "      <td>S</td>\n",
              "    </tr>\n",
              "  </tbody>\n",
              "</table>\n",
              "</div>\n",
              "      <button class=\"colab-df-convert\" onclick=\"convertToInteractive('df-b131ec9c-c81c-4bb8-bc39-2fd8bb2068a3')\"\n",
              "              title=\"Convert this dataframe to an interactive table.\"\n",
              "              style=\"display:none;\">\n",
              "        \n",
              "  <svg xmlns=\"http://www.w3.org/2000/svg\" height=\"24px\"viewBox=\"0 0 24 24\"\n",
              "       width=\"24px\">\n",
              "    <path d=\"M0 0h24v24H0V0z\" fill=\"none\"/>\n",
              "    <path d=\"M18.56 5.44l.94 2.06.94-2.06 2.06-.94-2.06-.94-.94-2.06-.94 2.06-2.06.94zm-11 1L8.5 8.5l.94-2.06 2.06-.94-2.06-.94L8.5 2.5l-.94 2.06-2.06.94zm10 10l.94 2.06.94-2.06 2.06-.94-2.06-.94-.94-2.06-.94 2.06-2.06.94z\"/><path d=\"M17.41 7.96l-1.37-1.37c-.4-.4-.92-.59-1.43-.59-.52 0-1.04.2-1.43.59L10.3 9.45l-7.72 7.72c-.78.78-.78 2.05 0 2.83L4 21.41c.39.39.9.59 1.41.59.51 0 1.02-.2 1.41-.59l7.78-7.78 2.81-2.81c.8-.78.8-2.07 0-2.86zM5.41 20L4 18.59l7.72-7.72 1.47 1.35L5.41 20z\"/>\n",
              "  </svg>\n",
              "      </button>\n",
              "      \n",
              "  <style>\n",
              "    .colab-df-container {\n",
              "      display:flex;\n",
              "      flex-wrap:wrap;\n",
              "      gap: 12px;\n",
              "    }\n",
              "\n",
              "    .colab-df-convert {\n",
              "      background-color: #E8F0FE;\n",
              "      border: none;\n",
              "      border-radius: 50%;\n",
              "      cursor: pointer;\n",
              "      display: none;\n",
              "      fill: #1967D2;\n",
              "      height: 32px;\n",
              "      padding: 0 0 0 0;\n",
              "      width: 32px;\n",
              "    }\n",
              "\n",
              "    .colab-df-convert:hover {\n",
              "      background-color: #E2EBFA;\n",
              "      box-shadow: 0px 1px 2px rgba(60, 64, 67, 0.3), 0px 1px 3px 1px rgba(60, 64, 67, 0.15);\n",
              "      fill: #174EA6;\n",
              "    }\n",
              "\n",
              "    [theme=dark] .colab-df-convert {\n",
              "      background-color: #3B4455;\n",
              "      fill: #D2E3FC;\n",
              "    }\n",
              "\n",
              "    [theme=dark] .colab-df-convert:hover {\n",
              "      background-color: #434B5C;\n",
              "      box-shadow: 0px 1px 3px 1px rgba(0, 0, 0, 0.15);\n",
              "      filter: drop-shadow(0px 1px 2px rgba(0, 0, 0, 0.3));\n",
              "      fill: #FFFFFF;\n",
              "    }\n",
              "  </style>\n",
              "\n",
              "      <script>\n",
              "        const buttonEl =\n",
              "          document.querySelector('#df-b131ec9c-c81c-4bb8-bc39-2fd8bb2068a3 button.colab-df-convert');\n",
              "        buttonEl.style.display =\n",
              "          google.colab.kernel.accessAllowed ? 'block' : 'none';\n",
              "\n",
              "        async function convertToInteractive(key) {\n",
              "          const element = document.querySelector('#df-b131ec9c-c81c-4bb8-bc39-2fd8bb2068a3');\n",
              "          const dataTable =\n",
              "            await google.colab.kernel.invokeFunction('convertToInteractive',\n",
              "                                                     [key], {});\n",
              "          if (!dataTable) return;\n",
              "\n",
              "          const docLinkHtml = 'Like what you see? Visit the ' +\n",
              "            '<a target=\"_blank\" href=https://colab.research.google.com/notebooks/data_table.ipynb>data table notebook</a>'\n",
              "            + ' to learn more about interactive tables.';\n",
              "          element.innerHTML = '';\n",
              "          dataTable['output_type'] = 'display_data';\n",
              "          await google.colab.output.renderOutput(dataTable, element);\n",
              "          const docLink = document.createElement('div');\n",
              "          docLink.innerHTML = docLinkHtml;\n",
              "          element.appendChild(docLink);\n",
              "        }\n",
              "      </script>\n",
              "    </div>\n",
              "  </div>\n",
              "  "
            ]
          },
          "metadata": {},
          "execution_count": 24
        }
      ],
      "source": [
        "train.head()"
      ]
    },
    {
      "cell_type": "code",
      "execution_count": 25,
      "metadata": {
        "id": "7Kka4YD2dlRP"
      },
      "outputs": [],
      "source": [
        "train.dropna(inplace=True)"
      ]
    },
    {
      "cell_type": "code",
      "source": [
        "# Check number of null values in a column\n",
        "\n",
        "train.isnull().sum()"
      ],
      "metadata": {
        "colab": {
          "base_uri": "https://localhost:8080/"
        },
        "id": "0_Di4SUTenzP",
        "outputId": "272f0315-35ad-48a3-c45b-1ba6665e5191"
      },
      "execution_count": 26,
      "outputs": [
        {
          "output_type": "execute_result",
          "data": {
            "text/plain": [
              "PassengerId    0\n",
              "Survived       0\n",
              "Pclass         0\n",
              "Name           0\n",
              "Sex            0\n",
              "Age            0\n",
              "SibSp          0\n",
              "Parch          0\n",
              "Ticket         0\n",
              "Fare           0\n",
              "Embarked       0\n",
              "dtype: int64"
            ]
          },
          "metadata": {},
          "execution_count": 26
        }
      ]
    },
    {
      "cell_type": "markdown",
      "source": [
        "## Convert Data Types\n",
        "\n",
        "Change age from float to integer"
      ],
      "metadata": {
        "id": "sKQHJguXgO2J"
      }
    },
    {
      "cell_type": "code",
      "source": [
        "train['Age'] = train['Age'].astype(int)\n",
        "train"
      ],
      "metadata": {
        "colab": {
          "base_uri": "https://localhost:8080/",
          "height": 424
        },
        "id": "rOMQeSR0gei-",
        "outputId": "5d261fb8-b4a9-41b8-e337-363fb33d1d45"
      },
      "execution_count": 27,
      "outputs": [
        {
          "output_type": "execute_result",
          "data": {
            "text/plain": [
              "     PassengerId  Survived  Pclass  \\\n",
              "0              1         0       3   \n",
              "1              2         1       1   \n",
              "2              3         1       3   \n",
              "3              4         1       1   \n",
              "4              5         0       3   \n",
              "..           ...       ...     ...   \n",
              "886          887         0       2   \n",
              "887          888         1       1   \n",
              "888          889         0       3   \n",
              "889          890         1       1   \n",
              "890          891         0       3   \n",
              "\n",
              "                                                  Name     Sex  Age  SibSp  \\\n",
              "0                              Braund, Mr. Owen Harris    male   22      1   \n",
              "1    Cumings, Mrs. John Bradley (Florence Briggs Th...  female   38      1   \n",
              "2                               Heikkinen, Miss. Laina  female   26      0   \n",
              "3         Futrelle, Mrs. Jacques Heath (Lily May Peel)  female   35      1   \n",
              "4                             Allen, Mr. William Henry    male   35      0   \n",
              "..                                                 ...     ...  ...    ...   \n",
              "886                              Montvila, Rev. Juozas    male   27      0   \n",
              "887                       Graham, Miss. Margaret Edith  female   19      0   \n",
              "888           Johnston, Miss. Catherine Helen \"Carrie\"  female   24      1   \n",
              "889                              Behr, Mr. Karl Howell    male   26      0   \n",
              "890                                Dooley, Mr. Patrick    male   32      0   \n",
              "\n",
              "     Parch            Ticket     Fare Embarked  \n",
              "0        0         A/5 21171   7.2500        S  \n",
              "1        0          PC 17599  71.2833        C  \n",
              "2        0  STON/O2. 3101282   7.9250        S  \n",
              "3        0            113803  53.1000        S  \n",
              "4        0            373450   8.0500        S  \n",
              "..     ...               ...      ...      ...  \n",
              "886      0            211536  13.0000        S  \n",
              "887      0            112053  30.0000        S  \n",
              "888      2        W./C. 6607  23.4500        S  \n",
              "889      0            111369  30.0000        C  \n",
              "890      0            370376   7.7500        Q  \n",
              "\n",
              "[889 rows x 11 columns]"
            ],
            "text/html": [
              "\n",
              "  <div id=\"df-3b93176f-b547-4af2-b59c-a221c95c4859\">\n",
              "    <div class=\"colab-df-container\">\n",
              "      <div>\n",
              "<style scoped>\n",
              "    .dataframe tbody tr th:only-of-type {\n",
              "        vertical-align: middle;\n",
              "    }\n",
              "\n",
              "    .dataframe tbody tr th {\n",
              "        vertical-align: top;\n",
              "    }\n",
              "\n",
              "    .dataframe thead th {\n",
              "        text-align: right;\n",
              "    }\n",
              "</style>\n",
              "<table border=\"1\" class=\"dataframe\">\n",
              "  <thead>\n",
              "    <tr style=\"text-align: right;\">\n",
              "      <th></th>\n",
              "      <th>PassengerId</th>\n",
              "      <th>Survived</th>\n",
              "      <th>Pclass</th>\n",
              "      <th>Name</th>\n",
              "      <th>Sex</th>\n",
              "      <th>Age</th>\n",
              "      <th>SibSp</th>\n",
              "      <th>Parch</th>\n",
              "      <th>Ticket</th>\n",
              "      <th>Fare</th>\n",
              "      <th>Embarked</th>\n",
              "    </tr>\n",
              "  </thead>\n",
              "  <tbody>\n",
              "    <tr>\n",
              "      <th>0</th>\n",
              "      <td>1</td>\n",
              "      <td>0</td>\n",
              "      <td>3</td>\n",
              "      <td>Braund, Mr. Owen Harris</td>\n",
              "      <td>male</td>\n",
              "      <td>22</td>\n",
              "      <td>1</td>\n",
              "      <td>0</td>\n",
              "      <td>A/5 21171</td>\n",
              "      <td>7.2500</td>\n",
              "      <td>S</td>\n",
              "    </tr>\n",
              "    <tr>\n",
              "      <th>1</th>\n",
              "      <td>2</td>\n",
              "      <td>1</td>\n",
              "      <td>1</td>\n",
              "      <td>Cumings, Mrs. John Bradley (Florence Briggs Th...</td>\n",
              "      <td>female</td>\n",
              "      <td>38</td>\n",
              "      <td>1</td>\n",
              "      <td>0</td>\n",
              "      <td>PC 17599</td>\n",
              "      <td>71.2833</td>\n",
              "      <td>C</td>\n",
              "    </tr>\n",
              "    <tr>\n",
              "      <th>2</th>\n",
              "      <td>3</td>\n",
              "      <td>1</td>\n",
              "      <td>3</td>\n",
              "      <td>Heikkinen, Miss. Laina</td>\n",
              "      <td>female</td>\n",
              "      <td>26</td>\n",
              "      <td>0</td>\n",
              "      <td>0</td>\n",
              "      <td>STON/O2. 3101282</td>\n",
              "      <td>7.9250</td>\n",
              "      <td>S</td>\n",
              "    </tr>\n",
              "    <tr>\n",
              "      <th>3</th>\n",
              "      <td>4</td>\n",
              "      <td>1</td>\n",
              "      <td>1</td>\n",
              "      <td>Futrelle, Mrs. Jacques Heath (Lily May Peel)</td>\n",
              "      <td>female</td>\n",
              "      <td>35</td>\n",
              "      <td>1</td>\n",
              "      <td>0</td>\n",
              "      <td>113803</td>\n",
              "      <td>53.1000</td>\n",
              "      <td>S</td>\n",
              "    </tr>\n",
              "    <tr>\n",
              "      <th>4</th>\n",
              "      <td>5</td>\n",
              "      <td>0</td>\n",
              "      <td>3</td>\n",
              "      <td>Allen, Mr. William Henry</td>\n",
              "      <td>male</td>\n",
              "      <td>35</td>\n",
              "      <td>0</td>\n",
              "      <td>0</td>\n",
              "      <td>373450</td>\n",
              "      <td>8.0500</td>\n",
              "      <td>S</td>\n",
              "    </tr>\n",
              "    <tr>\n",
              "      <th>...</th>\n",
              "      <td>...</td>\n",
              "      <td>...</td>\n",
              "      <td>...</td>\n",
              "      <td>...</td>\n",
              "      <td>...</td>\n",
              "      <td>...</td>\n",
              "      <td>...</td>\n",
              "      <td>...</td>\n",
              "      <td>...</td>\n",
              "      <td>...</td>\n",
              "      <td>...</td>\n",
              "    </tr>\n",
              "    <tr>\n",
              "      <th>886</th>\n",
              "      <td>887</td>\n",
              "      <td>0</td>\n",
              "      <td>2</td>\n",
              "      <td>Montvila, Rev. Juozas</td>\n",
              "      <td>male</td>\n",
              "      <td>27</td>\n",
              "      <td>0</td>\n",
              "      <td>0</td>\n",
              "      <td>211536</td>\n",
              "      <td>13.0000</td>\n",
              "      <td>S</td>\n",
              "    </tr>\n",
              "    <tr>\n",
              "      <th>887</th>\n",
              "      <td>888</td>\n",
              "      <td>1</td>\n",
              "      <td>1</td>\n",
              "      <td>Graham, Miss. Margaret Edith</td>\n",
              "      <td>female</td>\n",
              "      <td>19</td>\n",
              "      <td>0</td>\n",
              "      <td>0</td>\n",
              "      <td>112053</td>\n",
              "      <td>30.0000</td>\n",
              "      <td>S</td>\n",
              "    </tr>\n",
              "    <tr>\n",
              "      <th>888</th>\n",
              "      <td>889</td>\n",
              "      <td>0</td>\n",
              "      <td>3</td>\n",
              "      <td>Johnston, Miss. Catherine Helen \"Carrie\"</td>\n",
              "      <td>female</td>\n",
              "      <td>24</td>\n",
              "      <td>1</td>\n",
              "      <td>2</td>\n",
              "      <td>W./C. 6607</td>\n",
              "      <td>23.4500</td>\n",
              "      <td>S</td>\n",
              "    </tr>\n",
              "    <tr>\n",
              "      <th>889</th>\n",
              "      <td>890</td>\n",
              "      <td>1</td>\n",
              "      <td>1</td>\n",
              "      <td>Behr, Mr. Karl Howell</td>\n",
              "      <td>male</td>\n",
              "      <td>26</td>\n",
              "      <td>0</td>\n",
              "      <td>0</td>\n",
              "      <td>111369</td>\n",
              "      <td>30.0000</td>\n",
              "      <td>C</td>\n",
              "    </tr>\n",
              "    <tr>\n",
              "      <th>890</th>\n",
              "      <td>891</td>\n",
              "      <td>0</td>\n",
              "      <td>3</td>\n",
              "      <td>Dooley, Mr. Patrick</td>\n",
              "      <td>male</td>\n",
              "      <td>32</td>\n",
              "      <td>0</td>\n",
              "      <td>0</td>\n",
              "      <td>370376</td>\n",
              "      <td>7.7500</td>\n",
              "      <td>Q</td>\n",
              "    </tr>\n",
              "  </tbody>\n",
              "</table>\n",
              "<p>889 rows × 11 columns</p>\n",
              "</div>\n",
              "      <button class=\"colab-df-convert\" onclick=\"convertToInteractive('df-3b93176f-b547-4af2-b59c-a221c95c4859')\"\n",
              "              title=\"Convert this dataframe to an interactive table.\"\n",
              "              style=\"display:none;\">\n",
              "        \n",
              "  <svg xmlns=\"http://www.w3.org/2000/svg\" height=\"24px\"viewBox=\"0 0 24 24\"\n",
              "       width=\"24px\">\n",
              "    <path d=\"M0 0h24v24H0V0z\" fill=\"none\"/>\n",
              "    <path d=\"M18.56 5.44l.94 2.06.94-2.06 2.06-.94-2.06-.94-.94-2.06-.94 2.06-2.06.94zm-11 1L8.5 8.5l.94-2.06 2.06-.94-2.06-.94L8.5 2.5l-.94 2.06-2.06.94zm10 10l.94 2.06.94-2.06 2.06-.94-2.06-.94-.94-2.06-.94 2.06-2.06.94z\"/><path d=\"M17.41 7.96l-1.37-1.37c-.4-.4-.92-.59-1.43-.59-.52 0-1.04.2-1.43.59L10.3 9.45l-7.72 7.72c-.78.78-.78 2.05 0 2.83L4 21.41c.39.39.9.59 1.41.59.51 0 1.02-.2 1.41-.59l7.78-7.78 2.81-2.81c.8-.78.8-2.07 0-2.86zM5.41 20L4 18.59l7.72-7.72 1.47 1.35L5.41 20z\"/>\n",
              "  </svg>\n",
              "      </button>\n",
              "      \n",
              "  <style>\n",
              "    .colab-df-container {\n",
              "      display:flex;\n",
              "      flex-wrap:wrap;\n",
              "      gap: 12px;\n",
              "    }\n",
              "\n",
              "    .colab-df-convert {\n",
              "      background-color: #E8F0FE;\n",
              "      border: none;\n",
              "      border-radius: 50%;\n",
              "      cursor: pointer;\n",
              "      display: none;\n",
              "      fill: #1967D2;\n",
              "      height: 32px;\n",
              "      padding: 0 0 0 0;\n",
              "      width: 32px;\n",
              "    }\n",
              "\n",
              "    .colab-df-convert:hover {\n",
              "      background-color: #E2EBFA;\n",
              "      box-shadow: 0px 1px 2px rgba(60, 64, 67, 0.3), 0px 1px 3px 1px rgba(60, 64, 67, 0.15);\n",
              "      fill: #174EA6;\n",
              "    }\n",
              "\n",
              "    [theme=dark] .colab-df-convert {\n",
              "      background-color: #3B4455;\n",
              "      fill: #D2E3FC;\n",
              "    }\n",
              "\n",
              "    [theme=dark] .colab-df-convert:hover {\n",
              "      background-color: #434B5C;\n",
              "      box-shadow: 0px 1px 3px 1px rgba(0, 0, 0, 0.15);\n",
              "      filter: drop-shadow(0px 1px 2px rgba(0, 0, 0, 0.3));\n",
              "      fill: #FFFFFF;\n",
              "    }\n",
              "  </style>\n",
              "\n",
              "      <script>\n",
              "        const buttonEl =\n",
              "          document.querySelector('#df-3b93176f-b547-4af2-b59c-a221c95c4859 button.colab-df-convert');\n",
              "        buttonEl.style.display =\n",
              "          google.colab.kernel.accessAllowed ? 'block' : 'none';\n",
              "\n",
              "        async function convertToInteractive(key) {\n",
              "          const element = document.querySelector('#df-3b93176f-b547-4af2-b59c-a221c95c4859');\n",
              "          const dataTable =\n",
              "            await google.colab.kernel.invokeFunction('convertToInteractive',\n",
              "                                                     [key], {});\n",
              "          if (!dataTable) return;\n",
              "\n",
              "          const docLinkHtml = 'Like what you see? Visit the ' +\n",
              "            '<a target=\"_blank\" href=https://colab.research.google.com/notebooks/data_table.ipynb>data table notebook</a>'\n",
              "            + ' to learn more about interactive tables.';\n",
              "          element.innerHTML = '';\n",
              "          dataTable['output_type'] = 'display_data';\n",
              "          await google.colab.output.renderOutput(dataTable, element);\n",
              "          const docLink = document.createElement('div');\n",
              "          docLink.innerHTML = docLinkHtml;\n",
              "          element.appendChild(docLink);\n",
              "        }\n",
              "      </script>\n",
              "    </div>\n",
              "  </div>\n",
              "  "
            ]
          },
          "metadata": {},
          "execution_count": 27
        }
      ]
    },
    {
      "cell_type": "markdown",
      "source": [
        "What can we do with other text columns like the `Name` column?"
      ],
      "metadata": {
        "id": "woIramYLijj3"
      }
    },
    {
      "cell_type": "code",
      "source": [
        "train['Name'].to_list()[0:30]"
      ],
      "metadata": {
        "colab": {
          "base_uri": "https://localhost:8080/"
        },
        "id": "WAaHblzkjYBO",
        "outputId": "f6794637-00d6-4dad-83bc-80c3cf44f4f2"
      },
      "execution_count": 28,
      "outputs": [
        {
          "output_type": "execute_result",
          "data": {
            "text/plain": [
              "['Braund, Mr. Owen Harris',\n",
              " 'Cumings, Mrs. John Bradley (Florence Briggs Thayer)',\n",
              " 'Heikkinen, Miss. Laina',\n",
              " 'Futrelle, Mrs. Jacques Heath (Lily May Peel)',\n",
              " 'Allen, Mr. William Henry',\n",
              " 'Moran, Mr. James',\n",
              " 'McCarthy, Mr. Timothy J',\n",
              " 'Palsson, Master. Gosta Leonard',\n",
              " 'Johnson, Mrs. Oscar W (Elisabeth Vilhelmina Berg)',\n",
              " 'Nasser, Mrs. Nicholas (Adele Achem)',\n",
              " 'Sandstrom, Miss. Marguerite Rut',\n",
              " 'Bonnell, Miss. Elizabeth',\n",
              " 'Saundercock, Mr. William Henry',\n",
              " 'Andersson, Mr. Anders Johan',\n",
              " 'Vestrom, Miss. Hulda Amanda Adolfina',\n",
              " 'Hewlett, Mrs. (Mary D Kingcome) ',\n",
              " 'Rice, Master. Eugene',\n",
              " 'Williams, Mr. Charles Eugene',\n",
              " 'Vander Planke, Mrs. Julius (Emelia Maria Vandemoortele)',\n",
              " 'Masselmani, Mrs. Fatima',\n",
              " 'Fynney, Mr. Joseph J',\n",
              " 'Beesley, Mr. Lawrence',\n",
              " 'McGowan, Miss. Anna \"Annie\"',\n",
              " 'Sloper, Mr. William Thompson',\n",
              " 'Palsson, Miss. Torborg Danira',\n",
              " 'Asplund, Mrs. Carl Oscar (Selma Augusta Emilia Johansson)',\n",
              " 'Emir, Mr. Farred Chehab',\n",
              " 'Fortune, Mr. Charles Alexander',\n",
              " 'O\\'Dwyer, Miss. Ellen \"Nellie\"',\n",
              " 'Todoroff, Mr. Lalio']"
            ]
          },
          "metadata": {},
          "execution_count": 28
        }
      ]
    },
    {
      "cell_type": "code",
      "source": [
        "# create a new feature to extract title names from the Name column\n",
        "# We can see that there are a lot of extra names we dont need.\n",
        "train['title'] = train.Name.apply(lambda name: name.split(',')[1].split('.')[0].strip())\n",
        "train.title.value_counts()"
      ],
      "metadata": {
        "colab": {
          "base_uri": "https://localhost:8080/"
        },
        "id": "0OI53b6gmsws",
        "outputId": "545d4920-0bd0-4b28-925c-46c633bf95c0"
      },
      "execution_count": 29,
      "outputs": [
        {
          "output_type": "execute_result",
          "data": {
            "text/plain": [
              "Mr              517\n",
              "Miss            181\n",
              "Mrs             124\n",
              "Master           40\n",
              "Dr                7\n",
              "Rev               6\n",
              "Mlle              2\n",
              "Major             2\n",
              "Col               2\n",
              "the Countess      1\n",
              "Capt              1\n",
              "Ms                1\n",
              "Sir               1\n",
              "Lady              1\n",
              "Mme               1\n",
              "Don               1\n",
              "Jonkheer          1\n",
              "Name: title, dtype: int64"
            ]
          },
          "metadata": {},
          "execution_count": 29
        }
      ]
    },
    {
      "cell_type": "markdown",
      "metadata": {
        "id": "F6w4zrEZdlRP"
      },
      "source": [
        "## Converting Categorical Features \n",
        "\n",
        "We'll need to convert categorical features to dummy variables using pandas! Otherwise our machine learning algorithm won't be able to directly take in those features as inputs."
      ]
    },
    {
      "cell_type": "code",
      "execution_count": null,
      "metadata": {
        "colab": {
          "base_uri": "https://localhost:8080/"
        },
        "id": "s-q4ZpKudlRP",
        "outputId": "804b7ff4-21ab-47cd-c449-e8d49b268321"
      },
      "outputs": [
        {
          "output_type": "stream",
          "name": "stdout",
          "text": [
            "<class 'pandas.core.frame.DataFrame'>\n",
            "Int64Index: 889 entries, 0 to 890\n",
            "Data columns (total 11 columns):\n",
            " #   Column       Non-Null Count  Dtype  \n",
            "---  ------       --------------  -----  \n",
            " 0   PassengerId  889 non-null    int64  \n",
            " 1   Survived     889 non-null    int64  \n",
            " 2   Pclass       889 non-null    int64  \n",
            " 3   Name         889 non-null    object \n",
            " 4   Sex          889 non-null    object \n",
            " 5   Age          889 non-null    int64  \n",
            " 6   SibSp        889 non-null    int64  \n",
            " 7   Parch        889 non-null    int64  \n",
            " 8   Ticket       889 non-null    object \n",
            " 9   Fare         889 non-null    float64\n",
            " 10  Embarked     889 non-null    object \n",
            "dtypes: float64(1), int64(6), object(4)\n",
            "memory usage: 83.3+ KB\n"
          ]
        }
      ],
      "source": [
        "train.info()"
      ]
    },
    {
      "cell_type": "code",
      "execution_count": null,
      "metadata": {
        "id": "FRhjQkzqdlRP"
      },
      "outputs": [],
      "source": [
        "sex = pd.get_dummies(train['Sex'],drop_first=True)\n",
        "embark = pd.get_dummies(train['Embarked'],drop_first=True)"
      ]
    },
    {
      "cell_type": "code",
      "execution_count": null,
      "metadata": {
        "id": "UiNj2xb6dlRP"
      },
      "outputs": [],
      "source": [
        "train.drop(['Sex','Embarked','Name','Ticket'],axis=1,inplace=True)"
      ]
    },
    {
      "cell_type": "code",
      "execution_count": null,
      "metadata": {
        "collapsed": true,
        "id": "n5B_8xobdlRP"
      },
      "outputs": [],
      "source": [
        "train = pd.concat([train,sex,embark],axis=1)"
      ]
    },
    {
      "cell_type": "code",
      "execution_count": null,
      "metadata": {
        "colab": {
          "base_uri": "https://localhost:8080/",
          "height": 206
        },
        "id": "Yn5HT1rKdlRQ",
        "outputId": "43dd4de8-e5aa-4789-f92b-9951e1e0d4d9"
      },
      "outputs": [
        {
          "output_type": "execute_result",
          "data": {
            "text/plain": [
              "   PassengerId  Survived  Pclass  Age  SibSp  Parch     Fare  male  Q  S\n",
              "0            1         0       3   22      1      0   7.2500     1  0  1\n",
              "1            2         1       1   38      1      0  71.2833     0  0  0\n",
              "2            3         1       3   26      0      0   7.9250     0  0  1\n",
              "3            4         1       1   35      1      0  53.1000     0  0  1\n",
              "4            5         0       3   35      0      0   8.0500     1  0  1"
            ],
            "text/html": [
              "\n",
              "  <div id=\"df-00ca62a5-5b8e-4928-b1d3-99fc000f8d57\">\n",
              "    <div class=\"colab-df-container\">\n",
              "      <div>\n",
              "<style scoped>\n",
              "    .dataframe tbody tr th:only-of-type {\n",
              "        vertical-align: middle;\n",
              "    }\n",
              "\n",
              "    .dataframe tbody tr th {\n",
              "        vertical-align: top;\n",
              "    }\n",
              "\n",
              "    .dataframe thead th {\n",
              "        text-align: right;\n",
              "    }\n",
              "</style>\n",
              "<table border=\"1\" class=\"dataframe\">\n",
              "  <thead>\n",
              "    <tr style=\"text-align: right;\">\n",
              "      <th></th>\n",
              "      <th>PassengerId</th>\n",
              "      <th>Survived</th>\n",
              "      <th>Pclass</th>\n",
              "      <th>Age</th>\n",
              "      <th>SibSp</th>\n",
              "      <th>Parch</th>\n",
              "      <th>Fare</th>\n",
              "      <th>male</th>\n",
              "      <th>Q</th>\n",
              "      <th>S</th>\n",
              "    </tr>\n",
              "  </thead>\n",
              "  <tbody>\n",
              "    <tr>\n",
              "      <th>0</th>\n",
              "      <td>1</td>\n",
              "      <td>0</td>\n",
              "      <td>3</td>\n",
              "      <td>22</td>\n",
              "      <td>1</td>\n",
              "      <td>0</td>\n",
              "      <td>7.2500</td>\n",
              "      <td>1</td>\n",
              "      <td>0</td>\n",
              "      <td>1</td>\n",
              "    </tr>\n",
              "    <tr>\n",
              "      <th>1</th>\n",
              "      <td>2</td>\n",
              "      <td>1</td>\n",
              "      <td>1</td>\n",
              "      <td>38</td>\n",
              "      <td>1</td>\n",
              "      <td>0</td>\n",
              "      <td>71.2833</td>\n",
              "      <td>0</td>\n",
              "      <td>0</td>\n",
              "      <td>0</td>\n",
              "    </tr>\n",
              "    <tr>\n",
              "      <th>2</th>\n",
              "      <td>3</td>\n",
              "      <td>1</td>\n",
              "      <td>3</td>\n",
              "      <td>26</td>\n",
              "      <td>0</td>\n",
              "      <td>0</td>\n",
              "      <td>7.9250</td>\n",
              "      <td>0</td>\n",
              "      <td>0</td>\n",
              "      <td>1</td>\n",
              "    </tr>\n",
              "    <tr>\n",
              "      <th>3</th>\n",
              "      <td>4</td>\n",
              "      <td>1</td>\n",
              "      <td>1</td>\n",
              "      <td>35</td>\n",
              "      <td>1</td>\n",
              "      <td>0</td>\n",
              "      <td>53.1000</td>\n",
              "      <td>0</td>\n",
              "      <td>0</td>\n",
              "      <td>1</td>\n",
              "    </tr>\n",
              "    <tr>\n",
              "      <th>4</th>\n",
              "      <td>5</td>\n",
              "      <td>0</td>\n",
              "      <td>3</td>\n",
              "      <td>35</td>\n",
              "      <td>0</td>\n",
              "      <td>0</td>\n",
              "      <td>8.0500</td>\n",
              "      <td>1</td>\n",
              "      <td>0</td>\n",
              "      <td>1</td>\n",
              "    </tr>\n",
              "  </tbody>\n",
              "</table>\n",
              "</div>\n",
              "      <button class=\"colab-df-convert\" onclick=\"convertToInteractive('df-00ca62a5-5b8e-4928-b1d3-99fc000f8d57')\"\n",
              "              title=\"Convert this dataframe to an interactive table.\"\n",
              "              style=\"display:none;\">\n",
              "        \n",
              "  <svg xmlns=\"http://www.w3.org/2000/svg\" height=\"24px\"viewBox=\"0 0 24 24\"\n",
              "       width=\"24px\">\n",
              "    <path d=\"M0 0h24v24H0V0z\" fill=\"none\"/>\n",
              "    <path d=\"M18.56 5.44l.94 2.06.94-2.06 2.06-.94-2.06-.94-.94-2.06-.94 2.06-2.06.94zm-11 1L8.5 8.5l.94-2.06 2.06-.94-2.06-.94L8.5 2.5l-.94 2.06-2.06.94zm10 10l.94 2.06.94-2.06 2.06-.94-2.06-.94-.94-2.06-.94 2.06-2.06.94z\"/><path d=\"M17.41 7.96l-1.37-1.37c-.4-.4-.92-.59-1.43-.59-.52 0-1.04.2-1.43.59L10.3 9.45l-7.72 7.72c-.78.78-.78 2.05 0 2.83L4 21.41c.39.39.9.59 1.41.59.51 0 1.02-.2 1.41-.59l7.78-7.78 2.81-2.81c.8-.78.8-2.07 0-2.86zM5.41 20L4 18.59l7.72-7.72 1.47 1.35L5.41 20z\"/>\n",
              "  </svg>\n",
              "      </button>\n",
              "      \n",
              "  <style>\n",
              "    .colab-df-container {\n",
              "      display:flex;\n",
              "      flex-wrap:wrap;\n",
              "      gap: 12px;\n",
              "    }\n",
              "\n",
              "    .colab-df-convert {\n",
              "      background-color: #E8F0FE;\n",
              "      border: none;\n",
              "      border-radius: 50%;\n",
              "      cursor: pointer;\n",
              "      display: none;\n",
              "      fill: #1967D2;\n",
              "      height: 32px;\n",
              "      padding: 0 0 0 0;\n",
              "      width: 32px;\n",
              "    }\n",
              "\n",
              "    .colab-df-convert:hover {\n",
              "      background-color: #E2EBFA;\n",
              "      box-shadow: 0px 1px 2px rgba(60, 64, 67, 0.3), 0px 1px 3px 1px rgba(60, 64, 67, 0.15);\n",
              "      fill: #174EA6;\n",
              "    }\n",
              "\n",
              "    [theme=dark] .colab-df-convert {\n",
              "      background-color: #3B4455;\n",
              "      fill: #D2E3FC;\n",
              "    }\n",
              "\n",
              "    [theme=dark] .colab-df-convert:hover {\n",
              "      background-color: #434B5C;\n",
              "      box-shadow: 0px 1px 3px 1px rgba(0, 0, 0, 0.15);\n",
              "      filter: drop-shadow(0px 1px 2px rgba(0, 0, 0, 0.3));\n",
              "      fill: #FFFFFF;\n",
              "    }\n",
              "  </style>\n",
              "\n",
              "      <script>\n",
              "        const buttonEl =\n",
              "          document.querySelector('#df-00ca62a5-5b8e-4928-b1d3-99fc000f8d57 button.colab-df-convert');\n",
              "        buttonEl.style.display =\n",
              "          google.colab.kernel.accessAllowed ? 'block' : 'none';\n",
              "\n",
              "        async function convertToInteractive(key) {\n",
              "          const element = document.querySelector('#df-00ca62a5-5b8e-4928-b1d3-99fc000f8d57');\n",
              "          const dataTable =\n",
              "            await google.colab.kernel.invokeFunction('convertToInteractive',\n",
              "                                                     [key], {});\n",
              "          if (!dataTable) return;\n",
              "\n",
              "          const docLinkHtml = 'Like what you see? Visit the ' +\n",
              "            '<a target=\"_blank\" href=https://colab.research.google.com/notebooks/data_table.ipynb>data table notebook</a>'\n",
              "            + ' to learn more about interactive tables.';\n",
              "          element.innerHTML = '';\n",
              "          dataTable['output_type'] = 'display_data';\n",
              "          await google.colab.output.renderOutput(dataTable, element);\n",
              "          const docLink = document.createElement('div');\n",
              "          docLink.innerHTML = docLinkHtml;\n",
              "          element.appendChild(docLink);\n",
              "        }\n",
              "      </script>\n",
              "    </div>\n",
              "  </div>\n",
              "  "
            ]
          },
          "metadata": {},
          "execution_count": 100
        }
      ],
      "source": [
        "train.head()"
      ]
    },
    {
      "cell_type": "markdown",
      "source": [
        "## Bonus code"
      ],
      "metadata": {
        "id": "E4j04azIe7Ad"
      }
    },
    {
      "cell_type": "code",
      "source": [
        "#Survivial number according to gender or sex i.e. Male and Female\n",
        "survived_sex = train.groupby('male')['Survived'].sum()\n",
        "plt.figure(figsize=(4,5))\n",
        "plt.bar(survived_sex.index, survived_sex.values)\n",
        "plt.title('Survived female and male')\n",
        "for i, value in enumerate(survived_sex.values):\n",
        "    plt.text(i, value-20, str(value), fontsize=12, color='white',\n",
        "             horizontalalignment='center', verticalalignment='center')\n",
        "plt.show()"
      ],
      "metadata": {
        "colab": {
          "base_uri": "https://localhost:8080/",
          "height": 336
        },
        "id": "NkOmwbPIeuAC",
        "outputId": "0312ab4f-a771-4bc0-987c-38980c8547eb"
      },
      "execution_count": null,
      "outputs": [
        {
          "output_type": "display_data",
          "data": {
            "text/plain": [
              "<Figure size 288x360 with 1 Axes>"
            ],
            "image/png": "[encoded data removed]"
          },
          "metadata": {
            "needs_background": "light"
          }
        }
      ]
    },
    {
      "cell_type": "markdown",
      "source": [
        "Here we see the survival rate across all the classes. We can do this by taking the sum of survived passengers for each class and dividing it by the total number of passengers for that class and multiplying by 100. Here, we will use the pandas groupby() function to segregate passengers according to their class."
      ],
      "metadata": {
        "id": "IU2sOGNtfRRT"
      }
    },
    {
      "cell_type": "code",
      "source": [
        "#sns.plt.hist(df_cleaned.groupby(['Pclass', 'Survived', 'Sex']).size())\n",
        "grouped_by_pclass = train.groupby(['Pclass', 'Survived', 'male'])\n",
        "grouped_by_pclass.size()"
      ],
      "metadata": {
        "colab": {
          "base_uri": "https://localhost:8080/"
        },
        "id": "JrsYkVh7e9Ix",
        "outputId": "16d824aa-3aee-4941-ae48-26c87e81f7dc"
      },
      "execution_count": null,
      "outputs": [
        {
          "output_type": "execute_result",
          "data": {
            "text/plain": [
              "Pclass  Survived  male\n",
              "1       0         0         3\n",
              "                  1        77\n",
              "        1         0        89\n",
              "                  1        45\n",
              "2       0         0         6\n",
              "                  1        91\n",
              "        1         0        70\n",
              "                  1        17\n",
              "3       0         0        72\n",
              "                  1       300\n",
              "        1         0        72\n",
              "                  1        47\n",
              "dtype: int64"
            ]
          },
          "metadata": {},
          "execution_count": 102
        }
      ]
    },
    {
      "cell_type": "code",
      "source": [
        "train.groupby(['Pclass'])['Survived'].sum()/train.groupby(['Pclass'])['Survived'].count()*100"
      ],
      "metadata": {
        "colab": {
          "base_uri": "https://localhost:8080/"
        },
        "id": "1JbiBoeVfY_p",
        "outputId": "77f6e415-a943-4be9-a4a0-21513a7c38dc"
      },
      "execution_count": null,
      "outputs": [
        {
          "output_type": "execute_result",
          "data": {
            "text/plain": [
              "Pclass\n",
              "1    62.616822\n",
              "2    47.282609\n",
              "3    24.236253\n",
              "Name: Survived, dtype: float64"
            ]
          },
          "metadata": {},
          "execution_count": 103
        }
      ]
    },
    {
      "cell_type": "code",
      "source": [
        "sns.factorplot('Survived', col='Pclass', hue='male', data=train, kind='count', size=7, aspect=.8)\n",
        "plt.subplots_adjust(top=0.9)"
      ],
      "metadata": {
        "colab": {
          "base_uri": "https://localhost:8080/",
          "height": 612
        },
        "id": "0WkyxzoYfczw",
        "outputId": "6bca4a88-0b6c-4713-d250-e47029e2292e"
      },
      "execution_count": null,
      "outputs": [
        {
          "output_type": "stream",
          "name": "stderr",
          "text": [
            "/usr/local/lib/python3.7/dist-packages/seaborn/categorical.py:3717: UserWarning: The `factorplot` function has been renamed to `catplot`. The original name will be removed in a future release. Please update your code. Note that the default `kind` in `factorplot` (`'point'`) has changed `'strip'` in `catplot`.\n",
            "  warnings.warn(msg)\n",
            "/usr/local/lib/python3.7/dist-packages/seaborn/categorical.py:3723: UserWarning: The `size` parameter has been renamed to `height`; please update your code.\n",
            "  warnings.warn(msg, UserWarning)\n",
            "/usr/local/lib/python3.7/dist-packages/seaborn/_decorators.py:43: FutureWarning: Pass the following variable as a keyword arg: x. From version 0.12, the only valid positional argument will be `data`, and passing other arguments without an explicit keyword will result in an error or misinterpretation.\n",
            "  FutureWarning\n"
          ]
        },
        {
          "output_type": "display_data",
          "data": {
            "text/plain": [
              "<Figure size 1251.98x504 with 3 Axes>"
            ],
            "image/png": "[encoded data removed]"
          },
          "metadata": {
            "needs_background": "light"
          }
        }
      ]
    },
    {
      "cell_type": "markdown",
      "source": [
        "# Pandas Profiling"
      ],
      "metadata": {
        "id": "oUpv5u-mnMTs"
      }
    },
    {
      "cell_type": "code",
      "source": [
        "!pip uninstall pandas-profiling\n",
        "!pip install pandas-profiling[notebook,html]"
      ],
      "metadata": {
        "colab": {
          "base_uri": "https://localhost:8080/"
        },
        "id": "UgtAtKGmgAps",
        "outputId": "9835c202-38ca-4dc7-8669-4ad28551ae7a"
      },
      "execution_count": null,
      "outputs": [
        {
          "output_type": "stream",
          "name": "stdout",
          "text": [
            "Found existing installation: pandas-profiling 1.4.1\n",
            "Uninstalling pandas-profiling-1.4.1:\n",
            "  Would remove:\n",
            "    /usr/local/lib/python3.7/dist-packages/pandas_profiling-1.4.1.dist-info/*\n",
            "    /usr/local/lib/python3.7/dist-packages/pandas_profiling/*\n",
            "Proceed (y/n)? "
          ]
        }
      ]
    },
    {
      "cell_type": "code",
      "source": [
        "import pandas_profiling\n",
        "from pandas_profiling import ProfileReport\n",
        "from pandas_profiling.utils.cache import cache_file"
      ],
      "metadata": {
        "id": "4ePcANzJnO0X"
      },
      "execution_count": null,
      "outputs": []
    },
    {
      "cell_type": "code",
      "source": [
        "train = pd.read_csv('https://raw.githubusercontent.com/angelaaaateng/ftw_python/main/data/titanic_train_demo.csv')"
      ],
      "metadata": {
        "id": "97ezZ7oAnZy8"
      },
      "execution_count": null,
      "outputs": []
    },
    {
      "cell_type": "code",
      "source": [
        "# titanic_report = ProfileReport(train, title=\"Titanic Dataset\", html={'style': {'full_width': True}}, sort=\"None\")"
      ],
      "metadata": {
        "id": "q3LJDOrMnQof"
      },
      "execution_count": null,
      "outputs": []
    },
    {
      "cell_type": "code",
      "source": [
        "# titanic_report.to_notebook_iframe()"
      ],
      "metadata": {
        "id": "xldohADtnbMZ"
      },
      "execution_count": null,
      "outputs": []
    },
    {
      "cell_type": "code",
      "source": [
        "ProfileReport(train)"
      ],
      "metadata": {
        "id": "E5bsQ_NmoaME"
      },
      "execution_count": null,
      "outputs": []
    },
    {
      "cell_type": "code",
      "source": [],
      "metadata": {
        "id": "rWzvFhKkoe3m"
      },
      "execution_count": null,
      "outputs": []
    }
  ],
  "metadata": {
    "kernelspec": {
      "display_name": "Python 3",
      "language": "python",
      "name": "python3"
    },
    "language_info": {
      "codemirror_mode": {
        "name": "ipython",
        "version": 3
      },
      "file_extension": ".py",
      "mimetype": "text/x-python",
      "name": "python",
      "nbconvert_exporter": "python",
      "pygments_lexer": "ipython3",
      "version": "3.5.1"
    },
    "colab": {
      "provenance": [],
      "include_colab_link": true
    }
  },
  "nbformat": 4,
  "nbformat_minor": 0
}